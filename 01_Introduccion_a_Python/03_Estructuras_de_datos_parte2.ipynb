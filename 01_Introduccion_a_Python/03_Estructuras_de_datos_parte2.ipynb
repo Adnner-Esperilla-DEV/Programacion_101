{
  "nbformat": 4,
  "nbformat_minor": 0,
  "metadata": {
    "colab": {
      "provenance": [],
      "include_colab_link": true
    },
    "kernelspec": {
      "name": "python3",
      "display_name": "Python 3"
    },
    "language_info": {
      "name": "python"
    }
  },
  "cells": [
    {
      "cell_type": "markdown",
      "metadata": {
        "id": "view-in-github",
        "colab_type": "text"
      },
      "source": [
        "<a href=\"https://colab.research.google.com/github/Adnner-Esperilla-DEV/Programacion_101/blob/main/01_Introduccion_a_Python/03_Estructuras_de_datos_parte2.ipynb\" target=\"_parent\"><img src=\"https://colab.research.google.com/assets/colab-badge.svg\" alt=\"Open In Colab\"/></a>"
      ]
    },
    {
      "cell_type": "markdown",
      "source": [
        "<img src=\"https://www.ctic.uni.edu.pe/wp-content/uploads/2022/04/588px-x-348px-web-1.png\" alt=\"HTML5 Icon\" width=\"900\" height=\"350\" >\n"
      ],
      "metadata": {
        "id": "0xv6Piu7tRkP"
      }
    },
    {
      "cell_type": "markdown",
      "source": [
        "<h1 align=center><font size = 5>ESTRUCTURAS DE DATOS - PARTE 2\n",
        "</font></h1>\n",
        "\n",
        "---\n"
      ],
      "metadata": {
        "id": "iJvpwSTptUZI"
      }
    },
    {
      "cell_type": "markdown",
      "source": [
        "**Tabla de Contenidos**\n",
        "\n",
        "- Diccionarios\n",
        "- Sets\n",
        "- Matrices\n",
        "\n",
        "---"
      ],
      "metadata": {
        "id": "gM88wvb0uEt7"
      }
    },
    {
      "cell_type": "markdown",
      "source": [
        "## 1. Diccionarios\n",
        "\n",
        "**Concepto:**\n",
        "\n",
        "Un diccionario es una estructura de datos que almacena pares clave-valor. Las claves deben ser únicas y se utilizan para acceder a los valores asociados."
      ],
      "metadata": {
        "id": "P3deKEL-tbDJ"
      }
    },
    {
      "cell_type": "markdown",
      "source": [
        "### Ejemplo 1.1: Creación de Diccionarios y Acceso a Elementos\n"
      ],
      "metadata": {
        "id": "hlZnLeo_uPwN"
      }
    },
    {
      "cell_type": "code",
      "source": [
        "# Crear un diccionario\n",
        "persona = {'nombre': 'Ana', 'edad': 30, 'ciudad': 'Lima'}\n",
        "print(persona)"
      ],
      "metadata": {
        "id": "P-TTXZxuuRe7",
        "colab": {
          "base_uri": "https://localhost:8080/"
        },
        "outputId": "65bd5e4d-a980-4ff7-b7d2-d2531ead6138"
      },
      "execution_count": 9,
      "outputs": [
        {
          "output_type": "stream",
          "name": "stdout",
          "text": [
            "{'nombre': 'Ana', 'edad': 30, 'ciudad': 'Lima'}\n"
          ]
        }
      ]
    },
    {
      "cell_type": "code",
      "source": [
        "# Acceder a un valor\n",
        "print(\"Nombre:\", persona['nombre'])\n",
        "print(\"Ciudad:\", persona.get('ciudad'))\n"
      ],
      "metadata": {
        "id": "tPRrAukRuS1S",
        "colab": {
          "base_uri": "https://localhost:8080/"
        },
        "outputId": "2d8069a0-3ef2-46c7-abf2-83e2225309c1"
      },
      "execution_count": 10,
      "outputs": [
        {
          "output_type": "stream",
          "name": "stdout",
          "text": [
            "Nombre: Ana\n",
            "Ciudad: Lima\n"
          ]
        }
      ]
    },
    {
      "cell_type": "code",
      "source": [
        "\n",
        "# Añadir un nuevo par clave-valor\n",
        "persona['profesion'] = 'Ingeniera'\n",
        "print(persona)\n",
        "\n"
      ],
      "metadata": {
        "id": "Ineeezk6uUjd",
        "colab": {
          "base_uri": "https://localhost:8080/"
        },
        "outputId": "27d7b8b2-95ca-4ccd-c2ec-474312a010c9"
      },
      "execution_count": 11,
      "outputs": [
        {
          "output_type": "stream",
          "name": "stdout",
          "text": [
            "{'nombre': 'Ana', 'edad': 30, 'ciudad': 'Lima', 'profesion': 'Ingeniera'}\n"
          ]
        }
      ]
    },
    {
      "cell_type": "code",
      "source": [
        "# Eliminar un par clave-valor\n",
        "del persona['ciudad']\n",
        "print(persona)"
      ],
      "metadata": {
        "id": "tuA4FSZNuVv1",
        "colab": {
          "base_uri": "https://localhost:8080/"
        },
        "outputId": "1e2b3588-0538-4138-c8c2-e431562f5baa"
      },
      "execution_count": 12,
      "outputs": [
        {
          "output_type": "stream",
          "name": "stdout",
          "text": [
            "{'nombre': 'Ana', 'edad': 30, 'profesion': 'Ingeniera'}\n"
          ]
        }
      ]
    },
    {
      "cell_type": "markdown",
      "source": [
        "### Ejemplo 1.2: Métodos Útiles de Diccionarios\n"
      ],
      "metadata": {
        "id": "FiQWLZxXuY6G"
      }
    },
    {
      "cell_type": "code",
      "source": [
        "# Obtener todas las claves\n",
        "print(persona.keys())\n"
      ],
      "metadata": {
        "id": "0BNmkeBXua1R",
        "colab": {
          "base_uri": "https://localhost:8080/"
        },
        "outputId": "8741e911-a5bc-4fca-f515-0f65b5ef28e0"
      },
      "execution_count": 13,
      "outputs": [
        {
          "output_type": "stream",
          "name": "stdout",
          "text": [
            "dict_keys(['nombre', 'edad', 'profesion'])\n"
          ]
        }
      ]
    },
    {
      "cell_type": "code",
      "source": [
        "# Obtener todos los valores\n",
        "print(persona.values())\n"
      ],
      "metadata": {
        "id": "67-6NfYiubwM",
        "colab": {
          "base_uri": "https://localhost:8080/"
        },
        "outputId": "c7793c5a-95db-4331-d0e0-b04d2e5c6eab"
      },
      "execution_count": 14,
      "outputs": [
        {
          "output_type": "stream",
          "name": "stdout",
          "text": [
            "dict_values(['Ana', 30, 'Ingeniera'])\n"
          ]
        }
      ]
    },
    {
      "cell_type": "code",
      "source": [
        "# Comprobar si una clave existe en el diccionario\n",
        "if 'edad' in persona:\n",
        "    print(\"La clave 'edad' está en el diccionario.\")\n"
      ],
      "metadata": {
        "id": "UPfEsSI_ucnd",
        "colab": {
          "base_uri": "https://localhost:8080/"
        },
        "outputId": "e24f5129-76d9-4cf7-e53e-eb822cd566b2"
      },
      "execution_count": 15,
      "outputs": [
        {
          "output_type": "stream",
          "name": "stdout",
          "text": [
            "La clave 'edad' está en el diccionario.\n"
          ]
        }
      ]
    },
    {
      "cell_type": "markdown",
      "source": [
        "### Ejercicio 1: Trabajando con Diccionarios\n",
        "\n",
        "- Crea un diccionario que contenga información sobre un automóvil (marca, modelo, año, color).\n",
        "- Accede a cada valor usando su clave.\n",
        "- Añade una clave para el precio del automóvil.\n",
        "- Elimina la clave del color del automóvil y muestra el diccionario actualizado.\n",
        "- Usa keys() y values() para imprimir las claves y valores del diccionario.\n",
        "\n"
      ],
      "metadata": {
        "id": "oECCq-N5uguf"
      }
    },
    {
      "cell_type": "code",
      "source": [
        "auto = {\"marca\":\"ford\",\"modelo\":\"Mustang\",\"year\":\"2023\",\"color\":\"blanco\"}\n",
        "auto[\"precio\"]= \"$:/30.000\"\n",
        "print(auto[\"marca\"])\n",
        "print(auto)\n",
        "print(auto.keys())\n",
        "print(auto.values())\n"
      ],
      "metadata": {
        "id": "x2uN2fYnume5",
        "colab": {
          "base_uri": "https://localhost:8080/"
        },
        "outputId": "adb711bc-dad6-4b6f-a3cf-53b30b2e86a4"
      },
      "execution_count": 20,
      "outputs": [
        {
          "output_type": "stream",
          "name": "stdout",
          "text": [
            "ford\n",
            "{'marca': 'ford', 'modelo': 'Mustang', 'year': '2023', 'color': 'blanco', 'precio': '$:/30.000'}\n",
            "dict_keys(['marca', 'modelo', 'year', 'color', 'precio'])\n",
            "dict_values(['ford', 'Mustang', '2023', 'blanco', '$:/30.000'])\n"
          ]
        }
      ]
    },
    {
      "cell_type": "markdown",
      "source": [
        "## 2. Sets\n",
        "\n",
        "Los sets son colecciones de elementos únicos y desordenados. Son útiles para eliminar duplicados o realizar operaciones matemáticas como intersección y unión."
      ],
      "metadata": {
        "id": "-omdmjTguoW-"
      }
    },
    {
      "cell_type": "markdown",
      "source": [
        "### Ejemplo 2.1: Creación y Modificación de Sets"
      ],
      "metadata": {
        "id": "5GC8_tPvuu3r"
      }
    },
    {
      "cell_type": "code",
      "source": [
        "# Crear un set\n",
        "numeros = {1, 2, 3, 4, 5}\n",
        "print(numeros)\n"
      ],
      "metadata": {
        "id": "D2ClA0CAutom",
        "colab": {
          "base_uri": "https://localhost:8080/"
        },
        "outputId": "40ef4e6c-c497-4edb-a7d7-17110a6e8e7d"
      },
      "execution_count": 21,
      "outputs": [
        {
          "output_type": "stream",
          "name": "stdout",
          "text": [
            "{1, 2, 3, 4, 5}\n"
          ]
        }
      ]
    },
    {
      "cell_type": "code",
      "source": [
        "# Añadir elementos\n",
        "\n",
        "numeros.add(\"4\")\n",
        "print(numeros)\n"
      ],
      "metadata": {
        "id": "deMM35okuyPM",
        "colab": {
          "base_uri": "https://localhost:8080/"
        },
        "outputId": "c5f83550-7ee1-4884-9e88-e935e7eeb8e2"
      },
      "execution_count": 26,
      "outputs": [
        {
          "output_type": "stream",
          "name": "stdout",
          "text": [
            "{1, 2, '6', 4, 5, 6, '4'}\n"
          ]
        }
      ]
    },
    {
      "cell_type": "code",
      "source": [
        "# Eliminar un elemento\n",
        "numeros.remove(\"6\")\n",
        "print(numeros)\n"
      ],
      "metadata": {
        "id": "VQjmgrWyuzAr",
        "colab": {
          "base_uri": "https://localhost:8080/"
        },
        "outputId": "4b91a9d2-a314-4155-8871-d4bd4e58a84a"
      },
      "execution_count": 28,
      "outputs": [
        {
          "output_type": "stream",
          "name": "stdout",
          "text": [
            "{1, 2, 5, 6, '4'}\n"
          ]
        }
      ]
    },
    {
      "cell_type": "markdown",
      "source": [
        "### Ejemplo 2.2: Operaciones de Conjuntos\n"
      ],
      "metadata": {
        "id": "8I9pqkBWu3qE"
      }
    },
    {
      "cell_type": "code",
      "source": [
        "# Crear otro set\n",
        "otro_set = {4, 5, 6, 7}"
      ],
      "metadata": {
        "id": "169QsOxuvAbe"
      },
      "execution_count": 29,
      "outputs": []
    },
    {
      "cell_type": "code",
      "source": [
        "# Unión de sets (todos los elementos)\n",
        "nuevo = numeros.union(otro_set)\n",
        "print(\"Unión:\", nuevo)\n"
      ],
      "metadata": {
        "id": "1hvqQ2F_vBtY",
        "colab": {
          "base_uri": "https://localhost:8080/"
        },
        "outputId": "69d8f283-77b8-425a-dd6e-24e8fa835486"
      },
      "execution_count": 32,
      "outputs": [
        {
          "output_type": "stream",
          "name": "stdout",
          "text": [
            "Unión: {1, 2, 4, 5, 6, '4', 7}\n"
          ]
        }
      ]
    },
    {
      "cell_type": "code",
      "source": [
        "# Intersección de sets (elementos comunes)\n",
        "interseccion = numeros.intersection(otro_set)\n",
        "print(\"Intersección:\", interseccion)\n"
      ],
      "metadata": {
        "id": "0AU3PFc1vCh2",
        "colab": {
          "base_uri": "https://localhost:8080/"
        },
        "outputId": "2801b9a1-646e-4342-c94d-be817475bdff"
      },
      "execution_count": 33,
      "outputs": [
        {
          "output_type": "stream",
          "name": "stdout",
          "text": [
            "Intersección: {5, 6}\n"
          ]
        }
      ]
    },
    {
      "cell_type": "markdown",
      "source": [
        "### Ejercicio 2: Operaciones con Sets\n",
        "\n",
        "- Crea dos sets de números: uno con números del 1 al 10 y otro con números del 5 al 15.\n",
        "- Encuentra la intersección y unión de ambos sets.\n",
        "- Elimina un número del primer set.\n",
        "- Usa un set para almacenar los nombres de tus amigos. Asegúrate de que no haya duplicados."
      ],
      "metadata": {
        "id": "y15kQNAQvFx_"
      }
    },
    {
      "cell_type": "code",
      "source": [
        "set1 = set(range(1, 11))\n",
        "set2 = set(range(1,16))\n",
        "friend = {\"marcelo\",\"lucciano\"}\n",
        "set1.remove(1)\n",
        "print(set1.union(set2))\n",
        "print(set1.intersection(set2))\n"
      ],
      "metadata": {
        "id": "CqudC_sBvJEQ",
        "colab": {
          "base_uri": "https://localhost:8080/"
        },
        "outputId": "d986140d-ce4c-40e1-a472-0ab78dd923c4"
      },
      "execution_count": 44,
      "outputs": [
        {
          "output_type": "stream",
          "name": "stdout",
          "text": [
            "{1, 2, 3, 4, 5, 6, 7, 8, 9, 10, 11, 12, 13, 14, 15}\n",
            "{2, 3, 4, 5, 6, 7, 8, 9, 10}\n"
          ]
        }
      ]
    },
    {
      "cell_type": "markdown",
      "source": [
        "## 3. Matrices\n",
        "\n",
        "En Python, las matrices pueden representarse como listas de listas. Para manipular matrices más avanzadas y realizar cálculos eficientes, utilizamos la librería NumPy."
      ],
      "metadata": {
        "id": "Pg3-dd-KvK9D"
      }
    },
    {
      "cell_type": "markdown",
      "source": [
        "### Ejemplo 3.1: Matrices con Listas de Listas\n"
      ],
      "metadata": {
        "id": "X7qGslkLvNya"
      }
    },
    {
      "cell_type": "code",
      "source": [
        "# Crear una matriz 3x3 con listas anidadas\n",
        "matriz = [\n",
        "    [1, 2, 3],\n",
        "    [4, 5, 6],\n",
        "    [7, 8, 9]\n",
        "]\n",
        "print(matriz)\n"
      ],
      "metadata": {
        "id": "TK57Y4GUvQ3Z",
        "colab": {
          "base_uri": "https://localhost:8080/"
        },
        "outputId": "3d8182a3-3830-4188-e228-d5a6008d5abd"
      },
      "execution_count": 45,
      "outputs": [
        {
          "output_type": "stream",
          "name": "stdout",
          "text": [
            "[[1, 2, 3], [4, 5, 6], [7, 8, 9]]\n"
          ]
        }
      ]
    },
    {
      "cell_type": "code",
      "source": [
        "# Acceder a elementos de la matriz\n",
        "print(\"Elemento en [1][1]:\", matriz[1][1])\n"
      ],
      "metadata": {
        "id": "D0MpaT6xvSH6",
        "colab": {
          "base_uri": "https://localhost:8080/"
        },
        "outputId": "529f01e9-a274-4e21-c0c4-14c0daca36e0"
      },
      "execution_count": 9,
      "outputs": [
        {
          "output_type": "stream",
          "name": "stdout",
          "text": [
            "Elemento en [1][1]: 5\n"
          ]
        }
      ]
    },
    {
      "cell_type": "code",
      "source": [
        "# Modificar un elemento\n",
        "matriz[2][0] = 10\n",
        "print(matriz)"
      ],
      "metadata": {
        "id": "02wHfdwMvUB_",
        "colab": {
          "base_uri": "https://localhost:8080/"
        },
        "outputId": "bbaea12c-732d-4acf-afd2-d58b0fcf8ab1"
      },
      "execution_count": 47,
      "outputs": [
        {
          "output_type": "stream",
          "name": "stdout",
          "text": [
            "[[1, 2, 3], [4, 5, 6], [10, 8, 9]]\n"
          ]
        }
      ]
    },
    {
      "cell_type": "markdown",
      "source": [
        "### Ejemplo 3.2: Manipulación de Matrices con NumPy\n"
      ],
      "metadata": {
        "id": "3cCGTHmTvXXy"
      }
    },
    {
      "cell_type": "code",
      "source": [
        "import numpy as np\n",
        "\n",
        "# Crear una matriz 3x3 con NumPy\n",
        "matriz_np = np.array([\n",
        "    [1, 2, 3],\n",
        "    [4, 5, 6],\n",
        "    [7, 8, 9]\n",
        "])\n",
        "print(matriz_np)\n",
        "\n",
        "\n"
      ],
      "metadata": {
        "id": "FZytH_LBvZrP",
        "colab": {
          "base_uri": "https://localhost:8080/"
        },
        "outputId": "adb4f343-57de-4919-a901-6ad75bf0263c"
      },
      "execution_count": 4,
      "outputs": [
        {
          "output_type": "stream",
          "name": "stdout",
          "text": [
            "[[1 2 3]\n",
            " [4 5 6]\n",
            " [7 8 9]]\n"
          ]
        }
      ]
    },
    {
      "cell_type": "code",
      "source": [
        "# Sumar 10 a cada elemento\n",
        "print(matriz_np + 10)\n",
        "\n"
      ],
      "metadata": {
        "id": "n2yT2V3tvbEE",
        "colab": {
          "base_uri": "https://localhost:8080/"
        },
        "outputId": "039a154e-ec06-44a4-aa2a-cbb111cfabb2"
      },
      "execution_count": 2,
      "outputs": [
        {
          "output_type": "stream",
          "name": "stdout",
          "text": [
            "[[11 12 13]\n",
            " [14 15 16]\n",
            " [17 18 19]]\n"
          ]
        }
      ]
    },
    {
      "cell_type": "code",
      "source": [
        "# Multiplicar cada elemento por 2\n",
        "print(matriz_np * 2)"
      ],
      "metadata": {
        "id": "RS-Cqk3rvb7k",
        "colab": {
          "base_uri": "https://localhost:8080/"
        },
        "outputId": "6446c36d-3278-46d3-e4bf-5e205698677b"
      },
      "execution_count": 5,
      "outputs": [
        {
          "output_type": "stream",
          "name": "stdout",
          "text": [
            "[[ 2  4  6]\n",
            " [ 8 10 12]\n",
            " [14 16 18]]\n"
          ]
        }
      ]
    },
    {
      "cell_type": "markdown",
      "source": [
        "### Ejercicio 3: Operaciones con Matrices\n",
        "\n",
        "- Crea una matriz 3x3 usando listas de listas.\n",
        "- Modifica un valor de la matriz y muestra la matriz actualizada.\n",
        "- Usa NumPy para crear una matriz 4x4 con números aleatorios enteros.\n",
        "- Realiza una operación de suma con la matriz (suma 5 a cada elemento).\n",
        "- Multiplica los elementos de la matriz por 2 usando NumPy."
      ],
      "metadata": {
        "id": "lR6HCR3DveEn"
      }
    },
    {
      "cell_type": "code",
      "source": [
        "import numpy as np\n",
        "mat = [\n",
        "    [1, 2, 3],\n",
        "    [4, 5, 6],\n",
        "    [7, 8, 9]\n",
        "]\n",
        "mat_np = np.random.randint(0, 6, size=(4, 4))\n",
        "# mat[2][2]='xD'\n",
        "print(mat)\n",
        "# print(mat_np)\n",
        "valor_a_sumar = 5\n",
        "for i in range(len(mat)):\n",
        "    for j in range(len(mat[i])):\n",
        "        mat[i][j] += valor_a_sumar\n",
        "for fila in mat:\n",
        "  print(fila)\n",
        "# print(mat_np *2)"
      ],
      "metadata": {
        "id": "7RMRCaRPvh1s",
        "colab": {
          "base_uri": "https://localhost:8080/"
        },
        "outputId": "f3437a68-4e7e-4492-e980-a48f7df4b953"
      },
      "execution_count": 29,
      "outputs": [
        {
          "output_type": "stream",
          "name": "stdout",
          "text": [
            "[[1, 2, 3], [4, 5, 6], [7, 8, 9]]\n",
            "[6, 7, 8]\n",
            "[9, 10, 11]\n",
            "[12, 13, 14]\n"
          ]
        }
      ]
    },
    {
      "cell_type": "markdown",
      "source": [
        "## 4. Desafío\n",
        "\n",
        "\n",
        "Eres el encargado de un almacén de productos electrónicos. Tienes un registro de ventas semanales para teléfonos, laptops y tabletas. Necesitas analizar las ventas para mejorar la gestión.\n",
        "\n",
        "- Crea tres listas: una para teléfonos, otra para laptops y otra para tabletas con las ventas de cada día durante una semana.\n",
        "- Usa slicing para obtener las ventas de los últimos 3 días de cada producto.\n",
        "- Usa listas por comprensión para calcular el total de ventas de cada producto y el promedio de ventas diarias.\n",
        "- Clasifica los productos en \"ventas altas\" o \"ventas bajas\" según si el promedio de ventas es mayor o menor a 5.\n",
        "\n",
        "Instrucciones:\n",
        "Usa sum() y len() para calcular el total de ventas y el promedio.\n",
        "Clasifica las ventas usando listas por comprensión."
      ],
      "metadata": {
        "id": "ROqSXb4Avk_T"
      }
    },
    {
      "cell_type": "code",
      "source": [
        "# prompt: Clasifica los productos en \"ventas altas\" o \"ventas bajas\" según si el promedio de ventas es mayor o menor a 5\n",
        "\n",
        "ventas_telefonos = [3, 7, 2, 9, 5, 1, 6]\n",
        "ventas_laptops = [1, 4, 6, 8, 2, 5, 3]\n",
        "ventas_tabletas = [5, 2, 8, 1, 7, 4, 9]\n",
        "\n",
        "ultimos_3_telefonos = ventas_telefonos[-3:]\n",
        "ultimos_3_laptops = ventas_laptops[-3:]\n",
        "ultimos_3_tabletas = ventas_tabletas[-3:]\n",
        "print(\"Ventas de los últimos 3 días de teléfonos:\", ultimos_3_telefonos)\n",
        "print(\"Ventas de los últimos 3 días de laptops:\", ultimos_3_laptops)\n",
        "print(\"Ventas de los últimos 3 días de tabletas:\", ultimos_3_tabletas)\n",
        "# Calcular el total de ventas y el promedio para cada producto\n",
        "total_telefonos = sum(ventas_telefonos)\n",
        "promedio_telefonos = total_telefonos / len(ventas_telefonos)\n",
        "\n",
        "total_laptops = sum(ventas_laptops)\n",
        "promedio_laptops = total_laptops / len(ventas_laptops)\n",
        "\n",
        "total_tabletas = sum(ventas_tabletas)\n",
        "promedio_tabletas = total_tabletas / len(ventas_tabletas)\n",
        "\n",
        "print(\"Total de ventas de telefonos:\", total_telefonos)\n",
        "print(\"Promedio de ventas de telefonos:\", promedio_telefonos)\n",
        "print(\"Total de ventas de laptops:\", total_laptops)\n",
        "print(\"Promedio de ventas de laptops:\", promedio_laptops)\n",
        "print(\"Total de ventas de tabletas:\", total_tabletas)\n",
        "print(\"Promedio de ventas de tabletas:\", promedio_tabletas)\n",
        "# Clasificar los productos en \"ventas altas\" o \"ventas bajas\"\n",
        "clasificacion_productos = [\n",
        "    (\"Telefonos\", \"Ventas altas\" if promedio_telefonos > 5 else \"Ventas bajas\"),\n",
        "    (\"Laptops\", \"Ventas altas\" if promedio_laptops > 5 else \"Ventas bajas\"),\n",
        "    (\"Tabletas\", \"Ventas altas\" if promedio_tabletas > 5 else \"Ventas bajas\")\n",
        "]\n",
        "\n",
        "# Imprimir la clasificación\n",
        "for producto, clasificacion in clasificacion_productos:\n",
        "  print(f\"{producto}: {clasificacion}\")\n"
      ],
      "metadata": {
        "id": "93wXCVCZv4TT",
        "colab": {
          "base_uri": "https://localhost:8080/"
        },
        "outputId": "42190bc7-dea8-415f-fbdb-3ed7038861f7"
      },
      "execution_count": 38,
      "outputs": [
        {
          "output_type": "stream",
          "name": "stdout",
          "text": [
            "Ventas de los últimos 3 días de teléfonos: [5, 1, 6]\n",
            "Ventas de los últimos 3 días de laptops: [2, 5, 3]\n",
            "Ventas de los últimos 3 días de tabletas: [7, 4, 9]\n",
            "Total de ventas de telefonos: 33\n",
            "Promedio de ventas de telefonos: 4.714285714285714\n",
            "Total de ventas de laptops: 29\n",
            "Promedio de ventas de laptops: 4.142857142857143\n",
            "Total de ventas de tabletas: 36\n",
            "Promedio de ventas de tabletas: 5.142857142857143\n",
            "Telefonos: Ventas bajas\n",
            "Laptops: Ventas bajas\n",
            "Tabletas: Ventas altas\n"
          ]
        }
      ]
    },
    {
      "cell_type": "code",
      "source": [],
      "metadata": {
        "id": "_pwneAXc5q49"
      },
      "execution_count": null,
      "outputs": []
    },
    {
      "cell_type": "code",
      "source": [],
      "metadata": {
        "id": "R3ODYVNg5rIT"
      },
      "execution_count": null,
      "outputs": []
    },
    {
      "cell_type": "markdown",
      "source": [
        "---\n",
        "\n",
        "# Gracias por completar este laboratorio!\n",
        "\n",
        "---"
      ],
      "metadata": {
        "id": "qUpDNm7iv-Vh"
      }
    }
  ]
}