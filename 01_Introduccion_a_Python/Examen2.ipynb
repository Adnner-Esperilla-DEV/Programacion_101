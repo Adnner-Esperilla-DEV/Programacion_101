{
  "nbformat": 4,
  "nbformat_minor": 0,
  "metadata": {
    "colab": {
      "provenance": [],
      "include_colab_link": true
    },
    "kernelspec": {
      "name": "python3",
      "display_name": "Python 3"
    },
    "language_info": {
      "name": "python"
    }
  },
  "cells": [
    {
      "cell_type": "markdown",
      "metadata": {
        "id": "view-in-github",
        "colab_type": "text"
      },
      "source": [
        "<a href=\"https://colab.research.google.com/github/Adnner-Esperilla-DEV/Programacion_101/blob/main/01_Introduccion_a_Python/Examen2.ipynb\" target=\"_parent\"><img src=\"https://colab.research.google.com/assets/colab-badge.svg\" alt=\"Open In Colab\"/></a>"
      ]
    },
    {
      "cell_type": "markdown",
      "source": [
        "Pregunta 1: Matrices y Estructuras de Control\n",
        "Crea un laberinto de 5x5 representado por una matriz (lista de listas). Inicializa la matriz con paredes representadas por '#' en los bordes y espacios vacíos representados por ' ' en el interior. Escribe el código para crear esta matriz y muestra el laberinto en pantalla de forma que cada fila aparezca en una línea diferente.\n"
      ],
      "metadata": {
        "id": "BIv3BtZ1_W2W"
      }
    },
    {
      "cell_type": "code",
      "source": [
        "# Creado del array\n",
        "laberinto = []\n",
        "for i in range(5):\n",
        "    # Creado una fila\n",
        "    fila = []\n",
        "    for j in range(5):\n",
        "        # Ponemos '#' en los bordes y ' ' en el interior\n",
        "        if i == 0 or i == 5 - 1 or j == 0 or j == 5 - 1:\n",
        "            fila.append('#')\n",
        "        else:\n",
        "            fila.append(' ')\n",
        "    laberinto.append(fila)\n",
        "for fila in laberinto:\n",
        "        print(''.join(fila))"
      ],
      "metadata": {
        "colab": {
          "base_uri": "https://localhost:8080/"
        },
        "id": "B8cwhDkl_Zab",
        "outputId": "c3637f86-08b1-40d3-c668-d6e352d1f34a"
      },
      "execution_count": null,
      "outputs": [
        {
          "output_type": "stream",
          "name": "stdout",
          "text": [
            "#####\n",
            "#   #\n",
            "#   #\n",
            "#   #\n",
            "#####\n"
          ]
        }
      ]
    },
    {
      "cell_type": "markdown",
      "source": [
        "Pregunta 2: Slicing y Mostrar el Laberinto\n",
        "Muestra el laberinto en pantalla marcando la posición del jugador con una 'P'. La posición inicial del jugador es (1, 1). Asegúrate de que la posición del jugador se refleje correctamente en la salida. Utiliza slicing para ayudar a mostrar las filas."
      ],
      "metadata": {
        "id": "B-KEWmxT_a6B"
      }
    },
    {
      "cell_type": "code",
      "source": [
        "#Posicion del jugador\n",
        "jugador = (1, 1)\n",
        "\n",
        "laberinto_con_jugador = [fila[:] for fila in laberinto]\n",
        "x, y = jugador\n",
        "laberinto_con_jugador[x][y] = 'P'\n",
        "for fila in laberinto_con_jugador:\n",
        "        print(''.join(fila))"
      ],
      "metadata": {
        "colab": {
          "base_uri": "https://localhost:8080/"
        },
        "id": "FhQKQQaMBaVW",
        "outputId": "9f32fa46-6142-44da-d033-50018437658d"
      },
      "execution_count": null,
      "outputs": [
        {
          "output_type": "stream",
          "name": "stdout",
          "text": [
            "#####\n",
            "#P  #\n",
            "#   #\n",
            "#   #\n",
            "#####\n"
          ]
        }
      ]
    },
    {
      "cell_type": "markdown",
      "source": [
        "Pregunta 3: Diccionarios y Control de Flujo\n",
        "Crea un diccionario llamado inventario para almacenar los objetos que el jugador recolecta. Escribe el código que agrega un objeto al inventario cuando el jugador lo encuentra. Si el objeto ya existe en el inventario, incrementa su cantidad en 1; si no, añade el objeto al inventario con cantidad 1.\n"
      ],
      "metadata": {
        "id": "-lJcN8zL_gbZ"
      }
    },
    {
      "cell_type": "code",
      "source": [
        "inventario = {}\n",
        "#Supongamos que encontro estos objetos\n",
        "objetos = ['espada', 'escudo', 'casco', 'espada', 'casco', 'escudo','perla','zafiro']\n",
        "for objeto in objetos:\n",
        "  if objeto in inventario:\n",
        "        # Si existe incremente\n",
        "        inventario[objeto] += 1\n",
        "  else:\n",
        "        # Si no existe se agrega uno nuevo\n",
        "        inventario[objeto] = 1\n",
        "print(\"Inventario:\", inventario)"
      ],
      "metadata": {
        "colab": {
          "base_uri": "https://localhost:8080/"
        },
        "id": "NXNmwg-eCbr5",
        "outputId": "7f8f663c-543f-48f9-f7b3-37ae61cbf5d8"
      },
      "execution_count": null,
      "outputs": [
        {
          "output_type": "stream",
          "name": "stdout",
          "text": [
            "Inventario: {'espada': 2, 'escudo': 2, 'casco': 2, 'perla': 1, 'zafiro': 1}\n"
          ]
        }
      ]
    },
    {
      "cell_type": "markdown",
      "source": [
        "Pregunta 4: Listas por Comprensión y Sets\n",
        "Supón que tienes una lista de objetos únicos del juego llamada objetos_unicos = ['espada', 'escudo', 'poción']. A partir del inventario, utiliza una lista por comprensión para extraer los objetos que están en objetos_unicos. Luego, convierte esta lista en un set para eliminar duplicados y muestra el set resultante.\n"
      ],
      "metadata": {
        "id": "qq8b_w9b_k3B"
      }
    },
    {
      "cell_type": "code",
      "source": [
        "obj_unicos = ['perla', 'zafiro']\n",
        "obj_inv = [obj for obj in obj_unicos if obj in inventario]\n",
        "obj_unicos_en_inv = set(obj_inv)\n",
        "print(\"Objetos únicos en el inventario:\", obj_unicos_en_inv)"
      ],
      "metadata": {
        "colab": {
          "base_uri": "https://localhost:8080/"
        },
        "id": "BabPhnxeEXEo",
        "outputId": "9304f312-a943-479c-c79b-671e6780148e"
      },
      "execution_count": null,
      "outputs": [
        {
          "output_type": "stream",
          "name": "stdout",
          "text": [
            "Objetos únicos en el inventario: {'zafiro', 'perla'}\n"
          ]
        }
      ]
    },
    {
      "cell_type": "markdown",
      "source": [
        "Pregunta 5: Manipulación de Strings y Estructuras de Control\n",
        "Cuando el jugador encuentra un objeto, debes mostrar un mensaje personalizado que incluya el nombre del objeto en mayúsculas y la cantidad total en el inventario. Por ejemplo: \"¡Has encontrado una ESPADA! Ahora tienes 2 ESPADAS.\" Escribe el código que genera este mensaje utilizando manipulación de strings y accediendo al inventario.\n",
        "Respuesta:\n"
      ],
      "metadata": {
        "id": "k37cpWHT_m8O"
      }
    },
    {
      "cell_type": "code",
      "source": [
        "#Obtenemos y se va sumando los objetos\n",
        "for objeto in objetos:\n",
        "    # Aumentar la cantidad del objeto en el inventario\n",
        "    inventario[objeto] = inventario.get(objeto, 0) + 1  # Incrementar la cantidad del objeto\n",
        "    # Mostrar el mensaje\n",
        "    cantidad = inventario.get(objeto, 0)\n",
        "    if cantidad > 0:\n",
        "        mensaje = f\"¡Has encontrado una {objeto.upper()}! Ahora tienes {cantidad} {objeto.upper()}S.\"\n",
        "    else:\n",
        "        mensaje = f\"¡Has encontrado una {objeto.upper()}, pero no la tenías antes!\"\n",
        "\n",
        "    print(mensaje)"
      ],
      "metadata": {
        "colab": {
          "base_uri": "https://localhost:8080/"
        },
        "id": "suw0DEimGmgT",
        "outputId": "88cdbd7d-0607-45e0-b043-729f1c7f7e8d"
      },
      "execution_count": null,
      "outputs": [
        {
          "output_type": "stream",
          "name": "stdout",
          "text": [
            "¡Has encontrado una ESPADA! Ahora tienes 11 ESPADAS.\n",
            "¡Has encontrado una ESCUDO! Ahora tienes 11 ESCUDOS.\n",
            "¡Has encontrado una CASCO! Ahora tienes 11 CASCOS.\n",
            "¡Has encontrado una ESPADA! Ahora tienes 12 ESPADAS.\n",
            "¡Has encontrado una CASCO! Ahora tienes 12 CASCOS.\n",
            "¡Has encontrado una ESCUDO! Ahora tienes 12 ESCUDOS.\n",
            "¡Has encontrado una PERLA! Ahora tienes 6 PERLAS.\n",
            "¡Has encontrado una ZAFIRO! Ahora tienes 6 ZAFIROS.\n"
          ]
        }
      ]
    },
    {
      "cell_type": "markdown",
      "source": [
        "Pregunta 6: Slicing y Control de Flujo\n",
        "Las trampas en el laberinto están en posiciones almacenadas en la lista trampas = [(1, 2), (3, 4), (2, 2)]. Escribe el código que verifica si la posición actual del jugador coincide con alguna trampa. Si es así, reduce la salud del jugador en 10 puntos. La salud inicial del jugador es 100. Utiliza una técnica eficiente para la verificación.\n",
        "Respuesta:\n"
      ],
      "metadata": {
        "id": "PoHSAbGM_qvS"
      }
    },
    {
      "cell_type": "code",
      "source": [
        "salud = 100\n",
        "trampas = [(1, 2), (3, 4), (2, 2)]\n",
        "#Supongamos que se mueve a la posicion 1,2\n",
        "jugador = (1, 2)\n",
        "if jugador in trampas:\n",
        "        salud -= 10\n",
        "        print(f\"¡Has caído en una trampa! Tu salud ahora es: {salud}\")\n",
        "if salud <= 0:\n",
        "    print(\"Fin del juego.\")"
      ],
      "metadata": {
        "colab": {
          "base_uri": "https://localhost:8080/"
        },
        "id": "bcUsp1A4_uYd",
        "outputId": "ea600e10-20af-49bd-b3f4-148c25295afd"
      },
      "execution_count": null,
      "outputs": [
        {
          "output_type": "stream",
          "name": "stdout",
          "text": [
            "¡Has caído en una trampa! Tu salud ahora es: 90\n"
          ]
        }
      ]
    },
    {
      "cell_type": "markdown",
      "source": [
        "Pregunta 7: Listas Anidadas y Modificación de Matrices\n",
        "Cada vez que el jugador se mueve, actualiza la matriz del laberinto para reflejar el movimiento: coloca un espacio ' ' en la posición anterior y una 'P' en la nueva posición. Escribe el código que realiza esta actualización sin modificar las paredes ni otros elementos.\n",
        "Respuesta:\n"
      ],
      "metadata": {
        "id": "yikCa4am_s6e"
      }
    },
    {
      "cell_type": "code",
      "source": [
        "movimientos = [(1, 2), (2, 2), (3, 2), (3, 3), (4, 3)]\n",
        "for movimiento in movimientos:\n",
        "    x_anterior, y_anterior = jugador\n",
        "    x_nueva, y_nueva = movimiento\n",
        "    if (0 <= x_nueva < len(laberinto)) and (0 <= y_nueva < len(laberinto[0])) and (laberinto[x_nueva][y_nueva] != '#'):\n",
        "        # Actualizar la posición anterior a un espacio vacío\n",
        "        laberinto[x_anterior][y_anterior] = ' '\n",
        "\n",
        "        # Actualizar la nueva posición del jugador\n",
        "        laberinto[x_nueva][y_nueva] = 'P'\n",
        "\n",
        "        # Actualizar la posición del jugador\n",
        "        posicion_jugador = (x_nueva, y_nueva)\n",
        "    else:\n",
        "        print(\"Movimiento inválido. Intenta de nuevo.\")\n",
        "    for fila in laberinto:\n",
        "        print(' '.join(fila))\n",
        "    print()"
      ],
      "metadata": {
        "colab": {
          "base_uri": "https://localhost:8080/"
        },
        "id": "Xs7rBjYiKiaJ",
        "outputId": "6f5f3d57-8cec-4d10-c5ba-fbc1f7f7a798"
      },
      "execution_count": null,
      "outputs": [
        {
          "output_type": "stream",
          "name": "stdout",
          "text": [
            "# # # # #\n",
            "#   P   #\n",
            "#   P   #\n",
            "#   P P #\n",
            "# # # # #\n",
            "\n",
            "# # # # #\n",
            "#       #\n",
            "#   P   #\n",
            "#   P P #\n",
            "# # # # #\n",
            "\n",
            "# # # # #\n",
            "#       #\n",
            "#   P   #\n",
            "#   P P #\n",
            "# # # # #\n",
            "\n",
            "# # # # #\n",
            "#       #\n",
            "#   P   #\n",
            "#   P P #\n",
            "# # # # #\n",
            "\n",
            "Movimiento inválido. Intenta de nuevo.\n",
            "# # # # #\n",
            "#       #\n",
            "#   P   #\n",
            "#   P P #\n",
            "# # # # #\n",
            "\n"
          ]
        }
      ]
    },
    {
      "cell_type": "markdown",
      "source": [
        "Pregunta 8: Control de Flujo y Movimientos del Jugador\n",
        "Escribe el código que permite al jugador moverse dentro del laberinto ingresando una dirección: 'arriba', 'abajo', 'izquierda' o 'derecha'. Actualiza la posición del jugador según la dirección ingresada, asegurándote de que no salga de los límites de la matriz ni atraviese paredes ('#'). Utiliza estructuras de control (condicionales) para manejar las reglas de movimiento.\n",
        "Respuesta:\n"
      ],
      "metadata": {
        "id": "1jQXV3Tt_ws_"
      }
    },
    {
      "cell_type": "code",
      "source": [
        "while True:\n",
        "    direccion = input(\"Ingresa dirección (arriba, abajo, izquierda, derecha) o 'salir' para terminar: \").lower()\n",
        "    if direccion == 'salir':\n",
        "        print(\"Gracias por jugar!\")\n",
        "        break\n",
        "\n",
        "if (0 <= x_nueva < len(laberinto)) and (0 <= y_nueva < len(laberinto[0])) and (laberinto[x_nueva][y_nueva] != '#'):\n",
        "        laberinto[x_anterior][y_anterior] = ' '\n",
        "\n",
        "        laberinto[x_nueva][y_nueva] = 'P'\n",
        "\n",
        "        posicion_jugador = (x_nueva, y_nueva)\n",
        "else:\n",
        "        print(\"Movimiento inválido. Intenta de nuevo.\")"
      ],
      "metadata": {
        "id": "g1CA8H3WMVAh"
      },
      "execution_count": null,
      "outputs": []
    }
  ]
}