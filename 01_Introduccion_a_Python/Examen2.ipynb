{
  "nbformat": 4,
  "nbformat_minor": 0,
  "metadata": {
    "colab": {
      "provenance": [],
      "include_colab_link": true
    },
    "kernelspec": {
      "name": "python3",
      "display_name": "Python 3"
    },
    "language_info": {
      "name": "python"
    }
  },
  "cells": [
    {
      "cell_type": "markdown",
      "metadata": {
        "id": "view-in-github",
        "colab_type": "text"
      },
      "source": [
        "<a href=\"https://colab.research.google.com/github/Adnner-Esperilla-DEV/Programacion_101/blob/main/01_Introduccion_a_Python/Examen2.ipynb\" target=\"_parent\"><img src=\"https://colab.research.google.com/assets/colab-badge.svg\" alt=\"Open In Colab\"/></a>"
      ]
    },
    {
      "cell_type": "markdown",
      "source": [
        "1. Cifrado de Texto (5 puntos)\n",
        "Escribe una función en Python llamada cifrar_texto que tome una cadena de texto y un número entero positivo n.\n",
        "La función debe devolver una nueva cadena donde cada carácter alfabético ha sido desplazado n posiciones\n",
        "adelante en el alfabeto. El cifrado debe ser cíclico; es decir, después de la 'z' sigue la 'a'. Mantén los caracteres\n",
        "no alfabéticos sin cambios y preserva las mayúsculas y minúsculas.\n",
        "\n",
        "Ejemplo:\n",
        "cifrar_texto(\"Hola, Mundo!\", 3) # Devuelve \"Krod, Pxqgr!\"\n"
      ],
      "metadata": {
        "id": "BIv3BtZ1_W2W"
      }
    },
    {
      "cell_type": "code",
      "source": [
        "def cifrar_texto(texto, n):\n",
        "    alfabeto_minusculas = \"abcdefghijklmnopqrstuvwxyz\"\n",
        "    alfabeto_mayusculas = \"ABCDEFGHIJKLMNOPQRSTUVWXYZ\"\n",
        "    cifrado = \"\"\n",
        "\n",
        "    for char in texto:\n",
        "        if char in alfabeto_minusculas:\n",
        "            indice_nuevo = (alfabeto_minusculas.index(char) + n) % 26\n",
        "            cifrado += alfabeto_minusculas[indice_nuevo]\n",
        "        elif char in alfabeto_mayusculas:\n",
        "            indice_nuevo = (alfabeto_mayusculas.index(char) + n) % 26\n",
        "            cifrado += alfabeto_mayusculas[indice_nuevo]\n",
        "        else:\n",
        "            cifrado += char\n",
        "\n",
        "    return cifrado\n",
        "resultado = cifrar_texto(\"Zcmmdq\", 1)\n",
        "print(resultado)"
      ],
      "metadata": {
        "colab": {
          "base_uri": "https://localhost:8080/"
        },
        "id": "B8cwhDkl_Zab",
        "outputId": "b13b3226-365b-4ecb-81c8-f43ffc70d901"
      },
      "execution_count": null,
      "outputs": [
        {
          "output_type": "stream",
          "name": "stdout",
          "text": [
            "Adnner\n"
          ]
        }
      ]
    },
    {
      "cell_type": "markdown",
      "source": [
        "2. Números Primos Gemelos (5 puntos)\n",
        "Escribe una función en Python que encuentre y devuelva todos los pares de números primos gemelos menores\n",
        "que un número entero positivo m dado. Los números primos gemelos son pares de números primos que difieren\n",
        "en 2 (por ejemplo, 3 y 5).\n",
        "Pista: Crea una función auxiliar para verificar si un número es primo, y utiliza un bucle para encontrar todos los\n",
        "primos hasta m.\n",
        "Ejemplo:\n",
        "primos_gemelos(15) # Devuelve [(3, 5), (5, 7), (11, 13)]"
      ],
      "metadata": {
        "id": "B-KEWmxT_a6B"
      }
    },
    {
      "cell_type": "code",
      "source": [
        "def es_primo(n):\n",
        "    if n < 2:\n",
        "        return False\n",
        "    for i in range(2, int(n**0.5) + 1):\n",
        "        if n % i == 0:\n",
        "            return False\n",
        "    return True\n",
        "\n",
        "def primos_gemelos(m):\n",
        "    primos = []\n",
        "    gemelos = []\n",
        "\n",
        "    for num in range(2, m):\n",
        "        if es_primo(num):\n",
        "            primos.append(num)\n",
        "\n",
        "    for i in range(len(primos) - 1):\n",
        "        if primos[i + 1] - primos[i] == 2:\n",
        "            gemelos.append((primos[i], primos[i + 1]))\n",
        "\n",
        "    return gemelos\n",
        "resultado = primos_gemelos(15)\n",
        "print(resultado)"
      ],
      "metadata": {
        "colab": {
          "base_uri": "https://localhost:8080/"
        },
        "id": "FhQKQQaMBaVW",
        "outputId": "b94abff9-fef5-4d67-fa07-3815e7c6e31f"
      },
      "execution_count": null,
      "outputs": [
        {
          "output_type": "stream",
          "name": "stdout",
          "text": [
            "[(3, 5), (5, 7), (11, 13)]\n"
          ]
        }
      ]
    },
    {
      "cell_type": "markdown",
      "source": [
        "3. Triángulo de Pascal (4 puntos)\n",
        "Utilizando bucles, escribe una función en Python que genere el Triángulo de Pascal hasta una altura h dada e\n",
        "imprímelo en formato piramidal.\n",
        "Pista: Cada número en el triángulo es la suma de los dos números directamente encima de él. Puedes utilizar\n",
        "listas para almacenar las filas.\n",
        "Ejemplo para h = 5:\n",
        "1\n",
        "1 1\n",
        "1 2 1\n",
        "1 3 3 1\n",
        "1 4 6 4 1\n",
        "\n"
      ],
      "metadata": {
        "id": "-lJcN8zL_gbZ"
      }
    },
    {
      "cell_type": "code",
      "source": [
        "def triangulo_pascal(h):\n",
        "  # Siempre va empezar con 1\n",
        "    triangulo = [[1]]\n",
        "    for i in range(1, h):\n",
        "        # Cada fila siempre va empezar con 1\n",
        "        fila = [1]\n",
        "        # Calcula los valores del medio\n",
        "        for j in range(1, i):\n",
        "            fila.append(triangulo[i - 1][j - 1] + triangulo[i - 1][j])\n",
        "        # Cada fila siempre va terminar con 1\n",
        "        fila.append(1)\n",
        "        triangulo.append(fila)\n",
        "    ancho = h * 2 - 1\n",
        "    for fila in triangulo:\n",
        "        print(\" \".join(map(str, fila)).center(ancho))\n",
        "\n",
        "triangulo_pascal(5)"
      ],
      "metadata": {
        "colab": {
          "base_uri": "https://localhost:8080/"
        },
        "id": "NXNmwg-eCbr5",
        "outputId": "b7adadfc-f718-443f-df4b-65e3226ec115"
      },
      "execution_count": null,
      "outputs": [
        {
          "output_type": "stream",
          "name": "stdout",
          "text": [
            "    1    \n",
            "   1 1   \n",
            "  1 2 1  \n",
            " 1 3 3 1 \n",
            "1 4 6 4 1\n"
          ]
        }
      ]
    },
    {
      "cell_type": "markdown",
      "source": [
        "4. Análisis de Frecuencia de Palabras (4 puntos)\n",
        "Escribe una función llamada analizar_frecuencia que tome una cadena de texto que puede contener múltiples\n",
        "oraciones. La función debe devolver un diccionario donde las claves son las palabras y los valores son el\n",
        "número de veces que aparece cada palabra en el texto. Ignora la puntuación y considera las mayúsculas y\n",
        "minúsculas como la misma letra (es decir, trata \"Hola\" y \"hola\" como la misma palabra).\n",
        "Pista: Utiliza el método str.lower() para convertir el texto a minúsculas y el módulo string para manejar la\n",
        "puntuación.\n",
        "Ejemplo:\n",
        "texto = \"Hola mundo. Hola a todos en el mundo.\"\n",
        "analizar_frecuencia(texto) # Devuelve {'hola': 2, 'mundo': 2, 'a': 1, 'todos': 1, 'en': 1, 'el': 1}\n",
        "\n"
      ],
      "metadata": {
        "id": "qq8b_w9b_k3B"
      }
    },
    {
      "cell_type": "code",
      "source": [
        "import string\n",
        "\n",
        "def analizar_frecuencia(texto):\n",
        "    texto = texto.lower()\n",
        "    texto = texto.translate(str.maketrans(\"\", \"\", string.punctuation))\n",
        "    palabras = texto.split()\n",
        "\n",
        "    frecuencia = {}\n",
        "    for palabra in palabras:\n",
        "        if palabra in frecuencia:\n",
        "            frecuencia[palabra] += 1\n",
        "        else:\n",
        "            frecuencia[palabra] = 1\n",
        "\n",
        "    return frecuencia\n",
        "texto = \"Hola mundo. Hola a todos en el mundo!\"\n",
        "resultado = analizar_frecuencia(texto)\n",
        "print(resultado)"
      ],
      "metadata": {
        "colab": {
          "base_uri": "https://localhost:8080/"
        },
        "id": "BabPhnxeEXEo",
        "outputId": "41e33ac9-82e5-4df4-9d82-4624849bf1c3"
      },
      "execution_count": null,
      "outputs": [
        {
          "output_type": "stream",
          "name": "stdout",
          "text": [
            "{'hola': 2, 'mundo': 2, 'a': 1, 'todos': 1, 'en': 1, 'el': 1}\n"
          ]
        }
      ]
    },
    {
      "cell_type": "markdown",
      "source": [
        "5. Juego de Números Aleatorios (2 puntos)\n",
        "Crea un programa en Python que genere un número aleatorio entre 1 y 100. El usuario tiene que adivinar el\n",
        "número, y el programa debe darle pistas indicando \"más alto\" o \"más bajo\" después de cada intento. El juego\n",
        "termina cuando el usuario adivina el número o se queda sin intentos (máximo 10 intentos).\n",
        "Requisitos:\n",
        "● Utiliza un bucle para gestionar los intentos.\n",
        "● Después de cada intento fallido, indica al usuario cuántos intentos le quedan.\n",
        "● Al finalizar, muestra un mensaje apropiado indicando si ganó o cuál era el número correcto.\n",
        "Pista: Usa el módulo random para generar el número aleatorio y un bucle while para gestionar los intentos.\n"
      ],
      "metadata": {
        "id": "k37cpWHT_m8O"
      }
    },
    {
      "cell_type": "code",
      "source": [
        "import random\n",
        "\n",
        "def juego():\n",
        "    numero_secreto = random.randint(1, 100)\n",
        "    intentos = 10\n",
        "\n",
        "    print(\"Bienvenido\")\n",
        "    print(\"Estoy pensando en un número entre 1 y 100. Tienes 10 intentos\")\n",
        "\n",
        "    while intentos > 0:\n",
        "        try:\n",
        "            adivinanza = int(input(\"Adivina el número: \"))\n",
        "            intentos -= 1\n",
        "\n",
        "            if adivinanza == numero_secreto:\n",
        "                print(\"¡Felicidades! Has adivinado el número correctamente.\")\n",
        "                break\n",
        "            elif adivinanza < numero_secreto:\n",
        "                print(\"Más alto\")\n",
        "            else:\n",
        "                print(\"Más bajo\")\n",
        "\n",
        "            # Indicar intentos restantes\n",
        "            if intentos > 0:\n",
        "                print(f\"Te quedan {intentos} intentos.\")\n",
        "            else:\n",
        "                print(\"¡Se han acabado tus intentos!\")\n",
        "\n",
        "        except ValueError:\n",
        "            print(\"Por favor, ingresa un número válido.\")\n",
        "\n",
        "    if intentos == 0 and adivinanza != numero_secreto:\n",
        "        print(f\"Lo siento, has perdido. El número correcto era {numero_secreto}.\")\n",
        "juego()"
      ],
      "metadata": {
        "colab": {
          "base_uri": "https://localhost:8080/"
        },
        "id": "suw0DEimGmgT",
        "outputId": "95fd0e2c-70f6-4a61-a3fe-a9b29dcab5bb"
      },
      "execution_count": null,
      "outputs": [
        {
          "output_type": "stream",
          "name": "stdout",
          "text": [
            "Bienvenido\n",
            "Estoy pensando en un número entre 1 y 100. Tienes 10 intentos\n",
            "Adivina el número: 50\n",
            "Más alto\n",
            "Te quedan 9 intentos.\n",
            "Adivina el número: 60\n",
            "Más alto\n",
            "Te quedan 8 intentos.\n",
            "Adivina el número: 70\n",
            "Más alto\n",
            "Te quedan 7 intentos.\n",
            "Adivina el número: 80\n",
            "Más alto\n",
            "Te quedan 6 intentos.\n",
            "Adivina el número: 90\n",
            "Más bajo\n",
            "Te quedan 5 intentos.\n",
            "Adivina el número: 88\n",
            "Más bajo\n",
            "Te quedan 4 intentos.\n",
            "Adivina el número: 87\n",
            "Más bajo\n",
            "Te quedan 3 intentos.\n",
            "Adivina el número: 85\n",
            "Más bajo\n",
            "Te quedan 2 intentos.\n",
            "Adivina el número: 84\n",
            "Más bajo\n",
            "Te quedan 1 intentos.\n",
            "Adivina el número: 83\n",
            "Más bajo\n",
            "¡Se han acabado tus intentos!\n",
            "Lo siento, has perdido. El número correcto era 81.\n"
          ]
        }
      ]
    },
    {
      "cell_type": "markdown",
      "source": [
        "6. Bonus: Generador de Contraseñas (Opcional, 3 puntos)\n",
        "Escribe una función en Python llamada generar_contraseña que genere una contraseña segura de longitud l\n",
        "proporcionada por el usuario. La contraseña debe incluir una combinación de letras mayúsculas, minúsculas,\n",
        "números y símbolos especiales.\n",
        "Pista: Usa el módulo random y las cadenas de caracteres disponibles en el módulo string.\n",
        "Ejemplo:\n",
        "generar_contraseña(12) # Podría devolver \"A*k3d9#Gq1Lp\"\n"
      ],
      "metadata": {
        "id": "Gmx1YbefbNRD"
      }
    },
    {
      "cell_type": "code",
      "source": [
        "import random\n",
        "import string\n",
        "\n",
        "def generar_password(longitud):\n",
        "    # Definir los caracteres disponibles para la password\n",
        "    caracteres = string.ascii_letters + string.digits + string.punctuation\n",
        "\n",
        "    # Generar una password aleatoria de la longitud especificada\n",
        "    password = ''.join(random.choice(caracteres) for _ in range(longitud))\n",
        "\n",
        "    return password\n",
        "\n",
        "print(generar_password(12))"
      ],
      "metadata": {
        "id": "ccaIhoIqbNC9",
        "outputId": "03047225-5c4f-4779-86db-c0235a2cee69",
        "colab": {
          "base_uri": "https://localhost:8080/"
        }
      },
      "execution_count": null,
      "outputs": [
        {
          "output_type": "stream",
          "name": "stdout",
          "text": [
            "0D;\\E2lCY)k'\n"
          ]
        }
      ]
    }
  ]
}