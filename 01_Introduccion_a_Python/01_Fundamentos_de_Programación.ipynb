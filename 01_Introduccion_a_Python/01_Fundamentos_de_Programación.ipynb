{
  "nbformat": 4,
  "nbformat_minor": 0,
  "metadata": {
    "colab": {
      "provenance": [],
      "toc_visible": true,
      "include_colab_link": true
    },
    "kernelspec": {
      "name": "python3",
      "display_name": "Python 3"
    },
    "language_info": {
      "name": "python"
    }
  },
  "cells": [
    {
      "cell_type": "markdown",
      "metadata": {
        "id": "view-in-github",
        "colab_type": "text"
      },
      "source": [
        "<a href=\"https://colab.research.google.com/github/Adnner-Esperilla-DEV/Programacion_101/blob/main/01_Introduccion_a_Python/01_Fundamentos_de_Programaci%C3%B3n.ipynb\" target=\"_parent\"><img src=\"https://colab.research.google.com/assets/colab-badge.svg\" alt=\"Open In Colab\"/></a>"
      ]
    },
    {
      "cell_type": "markdown",
      "source": [
        "<img src=\"https://www.ctic.uni.edu.pe/wp-content/uploads/2022/04/588px-x-348px-web-1.png\" alt=\"HTML5 Icon\" width=\"900\" height=\"350\" >\n"
      ],
      "metadata": {
        "id": "a2Ojkh4ciEiA"
      }
    },
    {
      "cell_type": "markdown",
      "source": [
        "<h1 align=center><font size = 5>FUNDAMENTOS DE PROGRAMACIÓN\n",
        "</font></h1>\n",
        "\n",
        "---"
      ],
      "metadata": {
        "id": "-amNk-kqiHO2"
      }
    },
    {
      "cell_type": "markdown",
      "source": [
        "## Tabla de Contenidos\n",
        "\n",
        "<div class=\"alert alert-block alert-info\" style=\"margin-top: 20px\">\n",
        "\n",
        "<font size = 3>\n",
        "    \n",
        "1. <a href=\"#item31\">Tipos básicos de datos</a>  \n",
        "2. <a href=\"#item31\">Manipulación de strings</a>  \n",
        "3. <a href=\"#item31\">Estructuras condicionales</a>  \n",
        "4. <a href=\"#item31\">Desafío</a>  \n",
        "</font>\n",
        "</div>\n",
        "\n",
        "---"
      ],
      "metadata": {
        "id": "qJ6hLRHNiQCG"
      }
    },
    {
      "cell_type": "markdown",
      "source": [
        "## <b>Objetivo:</b>\n",
        "\n",
        "Desarrollar habilidades para trabajar con tipos de datos básicos, manipulación de cadenas y la aplicación de estructuras condicionales en Python.\n",
        "\n",
        "---"
      ],
      "metadata": {
        "id": "1XCUOST_igWZ"
      }
    },
    {
      "cell_type": "markdown",
      "source": [
        "## <b>1. Tipos básicos de datos</b>\n",
        "\n",
        "Enteros, flotantes, cadenas y booleanos, con énfasis en cómo utilizarlos en operaciones básicas.\n",
        "\n"
      ],
      "metadata": {
        "id": "MWslSPQKjLYb"
      }
    },
    {
      "cell_type": "markdown",
      "source": [
        "### Verificando la versión de Python"
      ],
      "metadata": {
        "id": "SdnlyoStB_pK"
      }
    },
    {
      "cell_type": "code",
      "source": [
        "!python3"
      ],
      "metadata": {
        "id": "xFe_fHtsApoC",
        "outputId": "36615c77-d743-4841-bcf4-07688219eb98",
        "colab": {
          "base_uri": "https://localhost:8080/"
        }
      },
      "execution_count": null,
      "outputs": [
        {
          "output_type": "stream",
          "name": "stdout",
          "text": [
            "Python 3.10.12 (main, Jul 29 2024, 16:56:48) [GCC 11.4.0] on linux\n",
            "Type \"help\", \"copyright\", \"credits\" or \"license\" for more information.\n",
            ">>> credits\n",
            "    Thanks to CWI, CNRI, BeOpen.com, Zope Corporation and a cast of thousands\n",
            "    for supporting Python development.  See www.python.org for more information.\n",
            ">>> license()\n",
            "A. HISTORY OF THE SOFTWARE\n",
            "==========================\n",
            "\n",
            "Python was created in the early 1990s by Guido van Rossum at Stichting\n",
            "Mathematisch Centrum (CWI, see https://www.cwi.nl) in the Netherlands\n",
            "as a successor of a language called ABC.  Guido remains Python's\n",
            "principal author, although it includes many contributions from others.\n",
            "\n",
            "In 1995, Guido continued his work on Python at the Corporation for\n",
            "National Research Initiatives (CNRI, see https://www.cnri.reston.va.us)\n",
            "in Reston, Virginia where he released several versions of the\n",
            "software.\n",
            "\n",
            "In May 2000, Guido and the Python core development team moved to\n",
            "BeOpen.com to form the BeOpen PythonLabs team.  In October of the same\n",
            "year, the PythonLabs team moved to Digital Creations, which became\n",
            "Zope Corporation.  In 2001, the Python Software Foundation (PSF, see\n",
            "https://www.python.org/psf/) was formed, a non-profit organization\n",
            "created specifically to own Python-related Intellectual Property.\n",
            "Zope Corporation was a sponsoring member of the PSF.\n",
            "\n",
            "All Python releases are Open Source (see https://opensource.org for\n",
            "the Open Source Definition).  Historically, most, but not all, Python\n",
            "Hit Return for more, or q (and Return) to quit: Traceback (most recent call last):\n",
            "  File \"<stdin>\", line 1, in <module>\n",
            "  File \"/usr/lib/python3.10/_sitebuiltins.py\", line 81, in __call__\n",
            "    key = input(prompt)\n",
            "KeyboardInterrupt\n",
            ">>> \n",
            "KeyboardInterrupt\n",
            ">>> ^C\n"
          ]
        }
      ]
    },
    {
      "cell_type": "markdown",
      "source": [
        "### Ejecutando en Python"
      ],
      "metadata": {
        "id": "t1iB2a_1A_Nd"
      }
    },
    {
      "cell_type": "code",
      "source": [
        "1"
      ],
      "metadata": {
        "id": "_GUyponPAi_Z",
        "outputId": "50a1104c-d195-4456-a23e-883bedb03193",
        "colab": {
          "base_uri": "https://localhost:8080/"
        }
      },
      "execution_count": null,
      "outputs": [
        {
          "output_type": "execute_result",
          "data": {
            "text/plain": [
              "1"
            ]
          },
          "metadata": {},
          "execution_count": 4
        }
      ]
    },
    {
      "cell_type": "markdown",
      "source": [
        "### Variables en Python"
      ],
      "metadata": {
        "id": "sthjyiw1BYm4"
      }
    },
    {
      "cell_type": "code",
      "source": [
        "#CLASES\n",
        "name = 'Adnner'\n",
        "lastName = 'Esperilla'\n",
        "full_name = name + \" \" + lastName\n",
        "print(full_name)\n",
        "print(name,lastName)\n",
        "print(f'Bienvenido al curso {name}, {lastName}')"
      ],
      "metadata": {
        "colab": {
          "base_uri": "https://localhost:8080/"
        },
        "id": "l0WYVm8PJIGh",
        "outputId": "ca684464-04de-4e10-f3da-f826ad82c0ec"
      },
      "execution_count": null,
      "outputs": [
        {
          "output_type": "stream",
          "name": "stdout",
          "text": [
            "Adnner Esperilla\n",
            "Adnner Esperilla\n",
            "Bienvenido al curso Adnner, Esperilla\n"
          ]
        }
      ]
    },
    {
      "cell_type": "code",
      "source": [
        "message = \"Hello Python world!\"\n",
        "print(message)"
      ],
      "metadata": {
        "id": "mGbrzOEtBa7g",
        "outputId": "8341218e-23bb-4ed5-efcc-fcc276209cec",
        "colab": {
          "base_uri": "https://localhost:8080/"
        }
      },
      "execution_count": null,
      "outputs": [
        {
          "output_type": "stream",
          "name": "stdout",
          "text": [
            "Hello Python world!\n"
          ]
        }
      ]
    },
    {
      "cell_type": "markdown",
      "source": [
        "### Usando variables con strings"
      ],
      "metadata": {
        "id": "67A0ZgROBH2G"
      }
    },
    {
      "cell_type": "code",
      "source": [
        "first_name = \"John\"\n",
        "last_name = \"Caballero\"\n",
        "\n",
        "full_name = f\"{first_name} {last_name}\"\n",
        "print(full_name)\n"
      ],
      "metadata": {
        "id": "imkWRD_NGhM7"
      },
      "execution_count": null,
      "outputs": []
    },
    {
      "cell_type": "code",
      "source": [
        "age = input('Dime tu edad: ')"
      ],
      "metadata": {
        "id": "MhCGeM3POuYl",
        "outputId": "2ee8b378-15a0-4ef1-d28c-eae0c20442b2",
        "colab": {
          "base_uri": "https://localhost:8080/"
        }
      },
      "execution_count": null,
      "outputs": [
        {
          "name": "stdout",
          "output_type": "stream",
          "text": [
            "Dime tu edad: 20\n"
          ]
        }
      ]
    },
    {
      "cell_type": "code",
      "source": [
        "print(age)"
      ],
      "metadata": {
        "id": "pb_oaD9-O4sK",
        "outputId": "497abe99-d9a9-4e9e-8226-acd715f6a19b",
        "colab": {
          "base_uri": "https://localhost:8080/"
        }
      },
      "execution_count": null,
      "outputs": [
        {
          "output_type": "stream",
          "name": "stdout",
          "text": [
            "20\n"
          ]
        }
      ]
    },
    {
      "cell_type": "code",
      "source": [
        "first_name = input(\"Hola dime tu nombre :\")\n",
        "last_name = input(\"Hola dime tu apellido :\")\n",
        "print(f\"Bienvenido al curso {first_name + ' '+last_name}\")"
      ],
      "metadata": {
        "id": "I-X8UYMqPKb0",
        "outputId": "91f2a125-c8ce-4ba9-d0f7-ccabf5f85dd9",
        "colab": {
          "base_uri": "https://localhost:8080/"
        }
      },
      "execution_count": null,
      "outputs": [
        {
          "output_type": "stream",
          "name": "stdout",
          "text": [
            "Hola dime tu nombre :adnner\n",
            "Hola dime tu apellido :esperilla\n",
            "Bienvenido al curso adnner esperilla\n"
          ]
        }
      ]
    },
    {
      "cell_type": "code",
      "source": [
        "text = 'hola nuevo mundo'\n",
        "print(text.title())\n",
        "print(text.capitalize())"
      ],
      "metadata": {
        "id": "C-cIbAOlQ2B-",
        "outputId": "a5f9b04c-5501-446f-f6ec-6bdb67813dcd",
        "colab": {
          "base_uri": "https://localhost:8080/"
        }
      },
      "execution_count": null,
      "outputs": [
        {
          "output_type": "stream",
          "name": "stdout",
          "text": [
            "Hola Nuevo Mundo\n",
            "Hola nuevo mundo\n"
          ]
        }
      ]
    },
    {
      "cell_type": "code",
      "source": [
        "first_name = str(input('Ingrese el primer nombre: '))\n",
        "last_name = str(input('Ingrese el apellido: '))\n",
        "\n",
        "full_name = f\"{first_name} {last_name}\"\n",
        "print(f\"Bienvenido {full_name}!\")\n"
      ],
      "metadata": {
        "id": "ldadfir2G-ee"
      },
      "execution_count": null,
      "outputs": []
    },
    {
      "cell_type": "code",
      "source": [
        "print(f\"Hola, {full_name.title()}!\")"
      ],
      "metadata": {
        "id": "9DXlUqRdHWpy"
      },
      "execution_count": null,
      "outputs": []
    },
    {
      "cell_type": "code",
      "source": [
        "message = f\"Hola, {full_name.title()}!\"\n",
        "print(message)"
      ],
      "metadata": {
        "id": "ovwhbcW4HnNO"
      },
      "execution_count": null,
      "outputs": []
    },
    {
      "cell_type": "code",
      "source": [
        "print(\"Python\")"
      ],
      "metadata": {
        "id": "d7c9EIszIADO"
      },
      "execution_count": null,
      "outputs": []
    },
    {
      "cell_type": "code",
      "source": [
        "print(\"Python's\")"
      ],
      "metadata": {
        "id": "ypepBjltTCHR"
      },
      "execution_count": null,
      "outputs": []
    },
    {
      "cell_type": "code",
      "source": [
        "print(\"\\tPython\")"
      ],
      "metadata": {
        "id": "hGmARCyTH_8F",
        "outputId": "88f68484-766c-41f0-db56-e910689f0b65",
        "colab": {
          "base_uri": "https://localhost:8080/"
        }
      },
      "execution_count": null,
      "outputs": [
        {
          "output_type": "stream",
          "name": "stdout",
          "text": [
            "\tPython\n"
          ]
        }
      ]
    },
    {
      "cell_type": "code",
      "source": [
        "print(\"Languages:\\nPython\\nC\\nJavaScript\")"
      ],
      "metadata": {
        "id": "7sLWgXNbH_zY",
        "outputId": "b5d3fdd6-dd3e-41a6-c122-bfb338b80d97",
        "colab": {
          "base_uri": "https://localhost:8080/"
        }
      },
      "execution_count": null,
      "outputs": [
        {
          "output_type": "stream",
          "name": "stdout",
          "text": [
            "Languages:\n",
            "Python\n",
            "C\n",
            "JavaScript\n"
          ]
        }
      ]
    },
    {
      "cell_type": "code",
      "source": [
        "print(\"Languages:\\n\\tPython\\n\\tC\\n\\tJavaScript\")"
      ],
      "metadata": {
        "id": "GHwzRJQeIgCo",
        "outputId": "424809dc-0d6d-4c4d-b97a-e02089199784",
        "colab": {
          "base_uri": "https://localhost:8080/"
        }
      },
      "execution_count": null,
      "outputs": [
        {
          "output_type": "stream",
          "name": "stdout",
          "text": [
            "Languages:\n",
            "\tPython\n",
            "\tC\n",
            "\tJavaScript\n"
          ]
        }
      ]
    },
    {
      "cell_type": "markdown",
      "source": [
        "### Espacios en python"
      ],
      "metadata": {
        "id": "uV4g9yt5It7q"
      }
    },
    {
      "cell_type": "code",
      "source": [
        "favorite_language = 'python '\n",
        "favorite_language"
      ],
      "metadata": {
        "id": "3WM1AbohIpnt"
      },
      "execution_count": null,
      "outputs": []
    },
    {
      "cell_type": "code",
      "source": [
        "favorite_language.rstrip()"
      ],
      "metadata": {
        "id": "L465tOhkIqNd"
      },
      "execution_count": null,
      "outputs": []
    },
    {
      "cell_type": "code",
      "source": [
        "favorite_language"
      ],
      "metadata": {
        "id": "7AFWklYBJzQ6"
      },
      "execution_count": null,
      "outputs": []
    },
    {
      "cell_type": "code",
      "source": [
        "favorite_language = 'python '\n",
        "favorite_language = favorite_language.rstrip()\n",
        "favorite_language"
      ],
      "metadata": {
        "id": "9fqYGKCRJk1R",
        "outputId": "02fef91d-59ee-4ac5-e035-8a68be59d6e2",
        "colab": {
          "base_uri": "https://localhost:8080/",
          "height": 35
        }
      },
      "execution_count": null,
      "outputs": [
        {
          "output_type": "execute_result",
          "data": {
            "text/plain": [
              "'python'"
            ],
            "application/vnd.google.colaboratory.intrinsic+json": {
              "type": "string"
            }
          },
          "metadata": {},
          "execution_count": 22
        }
      ]
    },
    {
      "cell_type": "code",
      "source": [
        "favorite_language = ' python '\n",
        "favorite_language"
      ],
      "metadata": {
        "id": "3uDiKbdIKI0M",
        "outputId": "fef4036a-fdaf-4244-a5af-3116e46f6bcc",
        "colab": {
          "base_uri": "https://localhost:8080/",
          "height": 35
        }
      },
      "execution_count": null,
      "outputs": [
        {
          "output_type": "execute_result",
          "data": {
            "text/plain": [
              "' python '"
            ],
            "application/vnd.google.colaboratory.intrinsic+json": {
              "type": "string"
            }
          },
          "metadata": {},
          "execution_count": 26
        }
      ]
    },
    {
      "cell_type": "code",
      "source": [
        "favorite_language.rstrip()"
      ],
      "metadata": {
        "id": "FbVFEWqQKSwS",
        "outputId": "352a0ab0-d1fd-4816-cd1e-c4f5b18293ee",
        "colab": {
          "base_uri": "https://localhost:8080/",
          "height": 35
        }
      },
      "execution_count": null,
      "outputs": [
        {
          "output_type": "execute_result",
          "data": {
            "text/plain": [
              "' python'"
            ],
            "application/vnd.google.colaboratory.intrinsic+json": {
              "type": "string"
            }
          },
          "metadata": {},
          "execution_count": 27
        }
      ]
    },
    {
      "cell_type": "code",
      "source": [
        "favorite_language.lstrip()"
      ],
      "metadata": {
        "id": "tE4HafwRKJx6",
        "outputId": "2c9da4ab-b0b3-4eb8-d427-c4249043bfbe",
        "colab": {
          "base_uri": "https://localhost:8080/",
          "height": 35
        }
      },
      "execution_count": null,
      "outputs": [
        {
          "output_type": "execute_result",
          "data": {
            "text/plain": [
              "'python '"
            ],
            "application/vnd.google.colaboratory.intrinsic+json": {
              "type": "string"
            }
          },
          "metadata": {},
          "execution_count": 28
        }
      ]
    },
    {
      "cell_type": "code",
      "source": [
        "favorite_language.strip()"
      ],
      "metadata": {
        "id": "ZgZ9X5kgKJUS",
        "outputId": "0f12726d-dfa5-4af7-8fc1-57bee5d803ec",
        "colab": {
          "base_uri": "https://localhost:8080/",
          "height": 35
        }
      },
      "execution_count": null,
      "outputs": [
        {
          "output_type": "execute_result",
          "data": {
            "text/plain": [
              "'python'"
            ],
            "application/vnd.google.colaboratory.intrinsic+json": {
              "type": "string"
            }
          },
          "metadata": {},
          "execution_count": 29
        }
      ]
    },
    {
      "cell_type": "code",
      "source": [
        "len(favorite_language.strip())"
      ],
      "metadata": {
        "id": "uRBz6wLTUF1o",
        "outputId": "b8edf032-8f1b-4077-abf7-9bbbfd45908e",
        "colab": {
          "base_uri": "https://localhost:8080/"
        }
      },
      "execution_count": null,
      "outputs": [
        {
          "output_type": "execute_result",
          "data": {
            "text/plain": [
              "6"
            ]
          },
          "metadata": {},
          "execution_count": 32
        }
      ]
    },
    {
      "cell_type": "markdown",
      "source": [
        "### Problemas comunes"
      ],
      "metadata": {
        "id": "RSYDstcmLdkD"
      }
    },
    {
      "cell_type": "code",
      "source": [
        "message = \"El libro 'Harry Potter' fue un best seller\"\n",
        "print(message)"
      ],
      "metadata": {
        "id": "Tm8cU1yqLc5M"
      },
      "execution_count": null,
      "outputs": []
    },
    {
      "cell_type": "code",
      "source": [
        "message = 'One of Python's strengths is its diverse community.'\n",
        "print(message)"
      ],
      "metadata": {
        "id": "nxUO09lkNFuk"
      },
      "execution_count": null,
      "outputs": []
    },
    {
      "cell_type": "markdown",
      "source": [
        "### Números"
      ],
      "metadata": {
        "id": "cf-y9DtENQLY"
      }
    },
    {
      "cell_type": "code",
      "source": [
        "2 + 3"
      ],
      "metadata": {
        "id": "NU8oYEG9NPWl"
      },
      "execution_count": null,
      "outputs": []
    },
    {
      "cell_type": "code",
      "source": [
        "3 ** 2"
      ],
      "metadata": {
        "id": "UR4mC6E-Nbhw"
      },
      "execution_count": null,
      "outputs": []
    },
    {
      "cell_type": "code",
      "source": [
        "(2 + 3) * 4"
      ],
      "metadata": {
        "id": "K_Gln-FfNeO9"
      },
      "execution_count": null,
      "outputs": []
    },
    {
      "cell_type": "code",
      "source": [
        "# CLASES\n",
        "age_year =  int(input('cual estu anio de nacimiento ?: '))\n",
        "actual_year = 2024\n",
        "\n",
        "print(f'tu edad es : {actual_year - age_year} anios')"
      ],
      "metadata": {
        "id": "gAwsplLd1kTN",
        "outputId": "01e4bfb4-5dd4-4f0f-c04e-037dacb97959",
        "colab": {
          "base_uri": "https://localhost:8080/"
        }
      },
      "execution_count": null,
      "outputs": [
        {
          "output_type": "stream",
          "name": "stdout",
          "text": [
            "cual estu anio de nacimiento ?: 1996\n",
            "tu edad es : 28 anios\n"
          ]
        }
      ]
    },
    {
      "cell_type": "markdown",
      "source": [
        "### Floats"
      ],
      "metadata": {
        "id": "ubo6p0b-NhjD"
      }
    },
    {
      "cell_type": "code",
      "source": [
        "0.1 + 0.1"
      ],
      "metadata": {
        "id": "RQxlR6oyNmoG"
      },
      "execution_count": null,
      "outputs": []
    },
    {
      "cell_type": "code",
      "source": [
        "2 * 0.2"
      ],
      "metadata": {
        "id": "uWQ-911qNskj"
      },
      "execution_count": null,
      "outputs": []
    },
    {
      "cell_type": "code",
      "source": [
        "0.2 + 0.1"
      ],
      "metadata": {
        "id": "BcImgVOtNySt"
      },
      "execution_count": null,
      "outputs": []
    },
    {
      "cell_type": "code",
      "source": [
        "# CLASES\n",
        "round(0.2 + 0.1,20)"
      ],
      "metadata": {
        "id": "HzAihalc4gwP",
        "outputId": "908047f4-af5f-431a-e9c8-bb9bfcd47be9",
        "colab": {
          "base_uri": "https://localhost:8080/"
        }
      },
      "execution_count": null,
      "outputs": [
        {
          "output_type": "execute_result",
          "data": {
            "text/plain": [
              "0.30000000000000004"
            ]
          },
          "metadata": {},
          "execution_count": 2
        }
      ]
    },
    {
      "cell_type": "markdown",
      "source": [
        "### Enteros y Floats"
      ],
      "metadata": {
        "id": "a_1vW_FNOIf5"
      }
    },
    {
      "cell_type": "code",
      "source": [
        "4/2"
      ],
      "metadata": {
        "id": "iN7X2ZWWOLFS"
      },
      "execution_count": null,
      "outputs": []
    },
    {
      "cell_type": "code",
      "source": [
        "1 + 2.0"
      ],
      "metadata": {
        "id": "D9dA2ELhORGk"
      },
      "execution_count": null,
      "outputs": []
    },
    {
      "cell_type": "code",
      "source": [
        "1*3.0"
      ],
      "metadata": {
        "id": "wwDLo_S_Vhpr"
      },
      "execution_count": null,
      "outputs": []
    },
    {
      "cell_type": "code",
      "source": [
        "# CLASES\n",
        "type(4/2)\n",
        "type(1 + 2.0)"
      ],
      "metadata": {
        "id": "d7VT2UFk48fQ",
        "outputId": "28cc8735-4a4f-4852-9583-1525c97ffeef",
        "colab": {
          "base_uri": "https://localhost:8080/"
        }
      },
      "execution_count": null,
      "outputs": [
        {
          "output_type": "execute_result",
          "data": {
            "text/plain": [
              "float"
            ]
          },
          "metadata": {},
          "execution_count": 6
        }
      ]
    },
    {
      "cell_type": "markdown",
      "source": [
        "### Guiones bajos en números"
      ],
      "metadata": {
        "id": "8ICC-mT0OsHE"
      }
    },
    {
      "cell_type": "code",
      "source": [
        "universe_age = 14_000_000_000\n",
        "print(universe_age)"
      ],
      "metadata": {
        "id": "9a4-mKc8OqI8",
        "outputId": "8204fc56-a92c-4e7a-8615-97b0c5afd3d3",
        "colab": {
          "base_uri": "https://localhost:8080/"
        }
      },
      "execution_count": null,
      "outputs": [
        {
          "output_type": "stream",
          "name": "stdout",
          "text": [
            "14000000000\n"
          ]
        }
      ]
    },
    {
      "cell_type": "markdown",
      "source": [
        "### Asignación Múltiple"
      ],
      "metadata": {
        "id": "53q3i_pyPEey"
      }
    },
    {
      "cell_type": "code",
      "source": [
        "a, b = 1, 2\n",
        "b"
      ],
      "metadata": {
        "id": "Tp7oXgPsWQzf"
      },
      "execution_count": null,
      "outputs": []
    },
    {
      "cell_type": "code",
      "source": [
        "x, y, z = 0, 0, 0"
      ],
      "metadata": {
        "id": "jZIDGHQePh6B"
      },
      "execution_count": null,
      "outputs": []
    },
    {
      "cell_type": "code",
      "source": [
        "y"
      ],
      "metadata": {
        "id": "lQR7E1gtPiyR"
      },
      "execution_count": null,
      "outputs": []
    },
    {
      "cell_type": "markdown",
      "source": [
        "# CLASE\n",
        "## CLASE\n",
        "\n",
        "### CLASE\n",
        "\n",
        "\n",
        "**texto en negrita**\n",
        "*texto en cursiva*"
      ],
      "metadata": {
        "id": "-LkvylcY74ms"
      }
    },
    {
      "cell_type": "code",
      "source": [
        "# CLASE\n",
        "# osben_year=1995\n",
        "# eder_year=1990\n",
        "# es igual a :\n",
        "osben_year,eder_year=1995,1990\n",
        "print(osben_year)"
      ],
      "metadata": {
        "id": "0Lf6JWiT59S1",
        "outputId": "26ced369-8b7b-4f99-9f30-b031dddad401",
        "colab": {
          "base_uri": "https://localhost:8080/"
        }
      },
      "execution_count": null,
      "outputs": [
        {
          "output_type": "stream",
          "name": "stdout",
          "text": [
            "1995\n"
          ]
        }
      ]
    },
    {
      "cell_type": "code",
      "source": [],
      "metadata": {
        "id": "GOcRnaeY73rP"
      },
      "execution_count": null,
      "outputs": []
    },
    {
      "cell_type": "code",
      "source": [],
      "metadata": {
        "id": "LiBVER_l72Sg"
      },
      "execution_count": null,
      "outputs": []
    },
    {
      "cell_type": "markdown",
      "source": [
        "### Constantes"
      ],
      "metadata": {
        "id": "pncAPB7TPruo"
      }
    },
    {
      "cell_type": "code",
      "source": [
        "MAX_CONNECTIONS = 5000"
      ],
      "metadata": {
        "id": "AUR_RlTEPvZZ"
      },
      "execution_count": null,
      "outputs": []
    },
    {
      "cell_type": "markdown",
      "source": [
        "<b> Ejercicio </b>\n",
        "\n",
        "Usa una variable para representar un número. Luego, usando esa variable, cree un mensaje que revele su número. Imprime ese mensaje."
      ],
      "metadata": {
        "id": "CpJsuNbVRKZ3"
      }
    },
    {
      "cell_type": "markdown",
      "source": [
        "Doble-click __aquí__ para ver la solución.\n",
        "<!-- La respuesta es:\n",
        "num = 12\n",
        "print(f\"El número es {num}\")\n",
        "-->\n",
        "\n"
      ],
      "metadata": {
        "id": "jMC81ZCBTmJc"
      }
    },
    {
      "cell_type": "markdown",
      "source": [
        "### Comentarios"
      ],
      "metadata": {
        "id": "VAUMMfzqQ_OK"
      }
    },
    {
      "cell_type": "code",
      "source": [],
      "metadata": {
        "id": "MHCgX32dOnPy",
        "outputId": "f2ae1b9c-aa0f-4e4e-bba6-0774ac5046c1",
        "colab": {
          "base_uri": "https://localhost:8080/"
        }
      },
      "execution_count": null,
      "outputs": [
        {
          "output_type": "stream",
          "name": "stdout",
          "text": [
            "Ingresa un  numero : 2\n",
            "Tu numero es : 2\n"
          ]
        }
      ]
    },
    {
      "cell_type": "markdown",
      "source": [
        "### El Zen de Python"
      ],
      "metadata": {
        "id": "XTsX-ps8mIBd"
      }
    },
    {
      "cell_type": "code",
      "source": [
        "import this"
      ],
      "metadata": {
        "id": "dB9VCvLST7Gp"
      },
      "execution_count": null,
      "outputs": []
    },
    {
      "cell_type": "markdown",
      "source": [
        "### Ejemplo 1.1: Operaciones aritméticas"
      ],
      "metadata": {
        "id": "WVuNuyWsjXsU"
      }
    },
    {
      "cell_type": "code",
      "source": [
        "# Variables numéricas\n",
        "a = 15  # Entero\n",
        "b = 4.7  # Flotante\n"
      ],
      "metadata": {
        "id": "_nYyKe_bjHY5"
      },
      "execution_count": null,
      "outputs": []
    },
    {
      "cell_type": "code",
      "execution_count": null,
      "metadata": {
        "id": "MNGFUaC6hyfi"
      },
      "outputs": [],
      "source": [
        "# Operaciones básicas\n",
        "print(\"Suma:\", a + b)"
      ]
    },
    {
      "cell_type": "code",
      "source": [
        "print(\"Resta:\", a - b)"
      ],
      "metadata": {
        "id": "hbnOS3lsjdWc"
      },
      "execution_count": null,
      "outputs": []
    },
    {
      "cell_type": "code",
      "source": [
        "print(\"Multiplicación:\", a * b)"
      ],
      "metadata": {
        "id": "P4v5iGM2jeTc"
      },
      "execution_count": null,
      "outputs": []
    },
    {
      "cell_type": "code",
      "source": [
        "print(\"División:\", a / b)"
      ],
      "metadata": {
        "id": "bngfJL61jfLf"
      },
      "execution_count": null,
      "outputs": []
    },
    {
      "cell_type": "code",
      "source": [
        "print(\"Módulo:\", a % b)  # Residuo de la división"
      ],
      "metadata": {
        "id": "lRmdUaHajgTp"
      },
      "execution_count": null,
      "outputs": []
    },
    {
      "cell_type": "markdown",
      "source": [
        "### Ejercicio 1.1: Operaciones con entrada de usuario\n",
        "\n",
        "Pide al usuario dos números, realiza las operaciones básicas (suma, resta, multiplicación y división) e imprime los resultados.\n",
        "Calcula la raíz cuadrada de un número utilizando la función ** (exponente)."
      ],
      "metadata": {
        "id": "oa1fRACgjlV_"
      }
    },
    {
      "cell_type": "code",
      "source": [
        "# Código para saludar.\n",
        "print(\"Hola ingresa \")"
      ],
      "metadata": {
        "id": "yrlpPiGWjol1"
      },
      "execution_count": null,
      "outputs": []
    },
    {
      "cell_type": "code",
      "source": [
        "# CLASES.\n",
        "num1 = int(input('Ingresa un primer numero : '))\n",
        "\n",
        "num2 = int(input('Ingresa el segundo numero : '))\n",
        "\n",
        "print(f'La suma es : {num1 + num2}')\n",
        "print(f'La resta es : {num1 - num2}')\n",
        "print(f'La multi es : {num1 * num2}')\n",
        "print(f'La div es : {num1 / num2}')\n",
        "\n"
      ],
      "metadata": {
        "id": "CsTapcNK-8Mq",
        "outputId": "430672b7-88c4-41bb-9241-3fd0de2780ec",
        "colab": {
          "base_uri": "https://localhost:8080/"
        }
      },
      "execution_count": null,
      "outputs": [
        {
          "output_type": "stream",
          "name": "stdout",
          "text": [
            "Ingresa un primer numero : 1\n",
            "Ingresa el segundo numero : 2\n",
            "La suma es : 3\n",
            "La resta es : -1\n",
            "La multi es : 2\n",
            "La div es : 0.5\n"
          ]
        }
      ]
    },
    {
      "cell_type": "markdown",
      "source": [
        "## <b>2. Manipulación de strings</b>\n",
        "\n",
        "Las cadenas de texto (strings) en Python son secuencias de caracteres, y Python proporciona muchos métodos útiles para manipularlas.\n",
        "\n"
      ],
      "metadata": {
        "id": "8q_I9AOBjpH7"
      }
    },
    {
      "cell_type": "markdown",
      "source": [
        "### Ejemplo 2.1: Concatenación y repetición de cadenas"
      ],
      "metadata": {
        "id": "o3SzxNcajzk4"
      }
    },
    {
      "cell_type": "code",
      "source": [
        "nombre = \"Ana\"\n",
        "apellido = \"Sánchez\"\n",
        "nombre_completo = nombre + \" \" + apellido + \" \" +str(2)\n",
        "\n",
        "print(\"Nombre completo:\", nombre_completo)\n"
      ],
      "metadata": {
        "id": "Uu2JI0Ycj7DM",
        "outputId": "7a907635-ebc5-4307-cdab-82bf9d36dda6",
        "colab": {
          "base_uri": "https://localhost:8080/"
        }
      },
      "execution_count": null,
      "outputs": [
        {
          "output_type": "stream",
          "name": "stdout",
          "text": [
            "Nombre completo: Ana Sánchez 2\n"
          ]
        }
      ]
    },
    {
      "cell_type": "code",
      "source": [
        "# Repetición\n",
        "\n",
        "repetido = \"Python! \" * 3\n",
        "print(repetido)\n"
      ],
      "metadata": {
        "id": "j8UcjDF7j9JX",
        "outputId": "d3988caf-5fc6-4aed-c719-8f093e526542",
        "colab": {
          "base_uri": "https://localhost:8080/"
        }
      },
      "execution_count": null,
      "outputs": [
        {
          "output_type": "stream",
          "name": "stdout",
          "text": [
            "Python! Python! Python! \n"
          ]
        }
      ]
    },
    {
      "cell_type": "markdown",
      "source": [
        "### Ejercicio 2.1: Creando saludos\n",
        "\n",
        "- Pide al usuario su nombre y apellido, luego genera un saludo en el formato: \"¡Hola, [Nombre Apellido]!\".\n",
        "\n",
        "- Usa repetición para imprimir el saludo 5 veces.\n"
      ],
      "metadata": {
        "id": "v9o0-F4FkBRa"
      }
    },
    {
      "cell_type": "code",
      "source": [
        "# CLASES.\n",
        "name = input('Ingresa tu nombre : ')\n",
        "\n",
        "lastName = input('Ingresa tu apellido: ')\n",
        "print(f'Hola!, {name} {lastName}'*5)"
      ],
      "metadata": {
        "id": "V3ZGMDOKkY29",
        "outputId": "e547e05e-0d73-429f-ca05-766d2fd674b2",
        "colab": {
          "base_uri": "https://localhost:8080/"
        }
      },
      "execution_count": null,
      "outputs": [
        {
          "output_type": "stream",
          "name": "stdout",
          "text": [
            "Ingresa tu nombre : adnner\n",
            "Ingresa tu apellido: esperilla\n",
            "Hola!, adnner esperillaHola!, adnner esperillaHola!, adnner esperillaHola!, adnner esperillaHola!, adnner esperilla\n"
          ]
        }
      ]
    },
    {
      "cell_type": "markdown",
      "source": [
        "### Ejemplo 2.2: Métodos strip(), lstrip() y rstrip()\n"
      ],
      "metadata": {
        "id": "8FWZtWkzkZMW"
      }
    },
    {
      "cell_type": "code",
      "source": [
        "# Métodos para eliminar espacios\n",
        "\n",
        "texto = \"   Python es genial   \"\n",
        "print(\"Original:\", texto)\n"
      ],
      "metadata": {
        "id": "fBMrjpJgkdKk"
      },
      "execution_count": null,
      "outputs": []
    },
    {
      "cell_type": "code",
      "source": [
        "print(\"Con strip():\", texto.strip())    # Elimina espacios al inicio y final\n",
        "\n"
      ],
      "metadata": {
        "id": "sBFoDUsvkf76"
      },
      "execution_count": null,
      "outputs": []
    },
    {
      "cell_type": "code",
      "source": [
        "print(\"Con lstrip():\", texto.lstrip())  # Elimina espacios al inicio\n"
      ],
      "metadata": {
        "id": "Pi1FADDIkgVS"
      },
      "execution_count": null,
      "outputs": []
    },
    {
      "cell_type": "code",
      "source": [
        "print(\"Con rstrip():\", texto.rstrip())  # Elimina espacios al final"
      ],
      "metadata": {
        "id": "foufxFkLkhdR"
      },
      "execution_count": null,
      "outputs": []
    },
    {
      "cell_type": "markdown",
      "source": [
        "### Ejercicio 2.2: Eliminar espacios en cadenas\n",
        "\n",
        "Pide al usuario que ingrese una frase con espacios extra al inicio y al final.\n",
        "\n",
        "- Usa strip() para eliminar los espacios en blanco.\n",
        "- Usa lstrip() para eliminar los espacios al inicio.\n",
        "- Usa rstrip() para eliminar los espacios al final.\n",
        "\n",
        "Imprime los resultados después de aplicar cada método."
      ],
      "metadata": {
        "id": "ONAVddiUkk0I"
      }
    },
    {
      "cell_type": "code",
      "source": [
        "# CLASES.\n",
        "texto = input('Ingresa una frase con espacios extra al inicio y al final: ')\n",
        "print(\"Con strip():\", texto.strip())\n",
        "print(\"Con lstrip():\", texto.lstrip())\n",
        "print(\"Con rstrip():\", texto.rstrip())\n"
      ],
      "metadata": {
        "id": "jfyhX8FmksPF",
        "outputId": "e1ebbaa5-4613-4584-9706-5b4a9587f61f",
        "colab": {
          "base_uri": "https://localhost:8080/"
        }
      },
      "execution_count": null,
      "outputs": [
        {
          "output_type": "stream",
          "name": "stdout",
          "text": [
            "Ingresa una fase con espacios extra al inicio y al final:   hola  \n",
            "Con strip(): hola\n",
            "Con lstrip(): hola  \n",
            "Con rstrip():   hola\n"
          ]
        }
      ]
    },
    {
      "cell_type": "code",
      "source": [],
      "metadata": {
        "id": "vXGQ_55zCWdh"
      },
      "execution_count": null,
      "outputs": []
    },
    {
      "cell_type": "code",
      "source": [],
      "metadata": {
        "id": "MuWY8fkKCNTP"
      },
      "execution_count": null,
      "outputs": []
    },
    {
      "cell_type": "markdown",
      "source": [
        "### Ejemplo 2.3: Métodos adicionales de cadenas\n"
      ],
      "metadata": {
        "id": "-RVPfhVTksuv"
      }
    },
    {
      "cell_type": "code",
      "source": [
        "# Otros métodos útiles\n",
        "texto = \"Hola Pythonista\"\n"
      ],
      "metadata": {
        "id": "uP3nSEXMkupC"
      },
      "execution_count": null,
      "outputs": []
    },
    {
      "cell_type": "code",
      "source": [
        "print(texto.upper())  # Convierte todo a mayúsculas\n"
      ],
      "metadata": {
        "id": "Q6UBYyhFkxLX"
      },
      "execution_count": null,
      "outputs": []
    },
    {
      "cell_type": "code",
      "source": [
        "print(texto.lower())  # Convierte todo a minúsculas\n"
      ],
      "metadata": {
        "id": "4Yk0_9t9kxjV"
      },
      "execution_count": null,
      "outputs": []
    },
    {
      "cell_type": "code",
      "source": [
        "\n",
        "print(texto.replace(\"Pythonista\", \"Programador\"))  # Reemplaza una palabra\n"
      ],
      "metadata": {
        "id": "UH3Uf1t_kyBu"
      },
      "execution_count": null,
      "outputs": []
    },
    {
      "cell_type": "code",
      "source": [
        "print(texto.capitalize())"
      ],
      "metadata": {
        "id": "S3TSVuG4HfKv",
        "outputId": "1fdd15cf-4277-45d2-cffd-147a865ccb00",
        "colab": {
          "base_uri": "https://localhost:8080/"
        }
      },
      "execution_count": null,
      "outputs": [
        {
          "output_type": "stream",
          "name": "stdout",
          "text": [
            "Hola pythonista\n"
          ]
        }
      ]
    },
    {
      "cell_type": "code",
      "source": [
        "print(texto.title())\n"
      ],
      "metadata": {
        "id": "7V3flCpAHk6B",
        "outputId": "cbce4721-4779-4e04-e99c-ba47e7b412da",
        "colab": {
          "base_uri": "https://localhost:8080/"
        }
      },
      "execution_count": null,
      "outputs": [
        {
          "output_type": "stream",
          "name": "stdout",
          "text": [
            "Hola Pythonista\n"
          ]
        }
      ]
    },
    {
      "cell_type": "markdown",
      "source": [
        "### Ejercicio 2.3: Transformando cadenas\n",
        "\n",
        "Pide al usuario que ingrese una frase, luego:\n",
        "- Convierte toda la frase a mayúsculas.\n",
        "- Reemplaza una palabra de la frase por otra y muestra el resultado.\n",
        "- Imprime la longitud de la frase."
      ],
      "metadata": {
        "id": "N1k_7rlXk3M3"
      }
    },
    {
      "cell_type": "code",
      "source": [
        "# CLASES.\n",
        "texto = input('Ingresa una frase: ')\n",
        "print(texto.upper())\n",
        "print(texto.replace(\"hola\",\"adios\"))\n",
        "print(len(texto))\n",
        "\n"
      ],
      "metadata": {
        "id": "wcDoawq0mrpr",
        "outputId": "6385d7e3-2660-4295-fa15-549f0b6a7681",
        "colab": {
          "base_uri": "https://localhost:8080/"
        }
      },
      "execution_count": null,
      "outputs": [
        {
          "output_type": "stream",
          "name": "stdout",
          "text": [
            "Ingresa una frase: adios mundo\n",
            "ADIOS MUNDO\n",
            "adios mundo\n",
            "11\n"
          ]
        }
      ]
    },
    {
      "cell_type": "markdown",
      "source": [
        "## <b>3. Estructuras de control: Condicionales</b>\n"
      ],
      "metadata": {
        "id": "8Pw1lVQAk_1c"
      }
    },
    {
      "cell_type": "markdown",
      "source": [
        "Las estructuras condicionales permiten que un programa tome decisiones en función de las condiciones que se cumplan."
      ],
      "metadata": {
        "id": "E4pOl2C8lKzF"
      }
    },
    {
      "cell_type": "markdown",
      "source": [
        "### Igualdades"
      ],
      "metadata": {
        "id": "NhyOyyLtnaLV"
      }
    },
    {
      "cell_type": "code",
      "source": [
        "1 = 2"
      ],
      "metadata": {
        "id": "YZkf5aLHmhde"
      },
      "execution_count": null,
      "outputs": []
    },
    {
      "cell_type": "code",
      "source": [
        "1 == 2"
      ],
      "metadata": {
        "id": "qi5sJLuUmR0m"
      },
      "execution_count": null,
      "outputs": []
    },
    {
      "cell_type": "code",
      "source": [
        "2 == 2"
      ],
      "metadata": {
        "id": "8T_pNL9gmoT8"
      },
      "execution_count": null,
      "outputs": []
    },
    {
      "cell_type": "code",
      "source": [
        "2 == 2.0"
      ],
      "metadata": {
        "id": "hSQ9bC3Vmy96",
        "outputId": "14bcf729-da95-4340-a897-25747e011a14",
        "colab": {
          "base_uri": "https://localhost:8080/"
        }
      },
      "execution_count": null,
      "outputs": [
        {
          "output_type": "execute_result",
          "data": {
            "text/plain": [
              "True"
            ]
          },
          "metadata": {},
          "execution_count": 27
        }
      ]
    },
    {
      "cell_type": "code",
      "source": [
        "car = 'bmw'\n",
        "car == 'bmw'"
      ],
      "metadata": {
        "id": "PukwJABJm1rP"
      },
      "execution_count": null,
      "outputs": []
    },
    {
      "cell_type": "code",
      "source": [
        "car = 'audi'\n",
        "car == 'bmw'"
      ],
      "metadata": {
        "id": "cz5ibI_Wm9lq"
      },
      "execution_count": null,
      "outputs": []
    },
    {
      "cell_type": "markdown",
      "source": [
        "Ignorando Mayusculas en igualdades"
      ],
      "metadata": {
        "id": "yEggshtHom4j"
      }
    },
    {
      "cell_type": "code",
      "source": [
        "car = 'Audi'\n",
        "car == 'audi'"
      ],
      "metadata": {
        "id": "2tLQKu9KnLC3",
        "colab": {
          "base_uri": "https://localhost:8080/"
        },
        "outputId": "7e61f1da-e6d6-4448-b79a-23b57a145fd3"
      },
      "execution_count": 38,
      "outputs": [
        {
          "output_type": "execute_result",
          "data": {
            "text/plain": [
              "False"
            ]
          },
          "metadata": {},
          "execution_count": 38
        }
      ]
    },
    {
      "cell_type": "code",
      "source": [
        "car.lower()"
      ],
      "metadata": {
        "id": "VFNGrgdfnZPK"
      },
      "execution_count": null,
      "outputs": []
    },
    {
      "cell_type": "code",
      "source": [
        "car.upper()"
      ],
      "metadata": {
        "id": "8SDmobRZnNsl"
      },
      "execution_count": null,
      "outputs": []
    },
    {
      "cell_type": "code",
      "source": [
        "car = 'Audi'\n",
        "car.lower() == 'audi'"
      ],
      "metadata": {
        "id": "WOnmTIX9m3IQ"
      },
      "execution_count": null,
      "outputs": []
    },
    {
      "cell_type": "markdown",
      "source": [
        "### Desigualdades"
      ],
      "metadata": {
        "id": "QJzj1X6undzm"
      }
    },
    {
      "cell_type": "code",
      "source": [
        "1 != 2"
      ],
      "metadata": {
        "id": "9u0Sho8vno-g"
      },
      "execution_count": null,
      "outputs": []
    },
    {
      "cell_type": "code",
      "source": [
        "'Audi' != 'audi'"
      ],
      "metadata": {
        "id": "EADKhXulntOP"
      },
      "execution_count": null,
      "outputs": []
    },
    {
      "cell_type": "code",
      "source": [
        "2 != 2.0"
      ],
      "metadata": {
        "id": "lRCCtFKBnweq"
      },
      "execution_count": null,
      "outputs": []
    },
    {
      "cell_type": "code",
      "source": [
        "requested_topping = 'champiñones'\n",
        "\n",
        "if requested_topping != 'Anchoas':\n",
        "  print(\"Sostén las Anchoas!\")\n"
      ],
      "metadata": {
        "id": "4x_KuchGnhHR"
      },
      "execution_count": null,
      "outputs": []
    },
    {
      "cell_type": "markdown",
      "source": [
        "### Comparar Números"
      ],
      "metadata": {
        "id": "9hZEAyQNpIDq"
      }
    },
    {
      "cell_type": "code",
      "source": [
        "age = 18\n",
        "age == 18"
      ],
      "metadata": {
        "id": "TkAawBSMpHmN"
      },
      "execution_count": null,
      "outputs": []
    },
    {
      "cell_type": "code",
      "source": [
        "answer = 17\n",
        "\n",
        "if answer != 42:\n",
        "  print(\"Respuesta incorrecta, intenta nuevamente!\")"
      ],
      "metadata": {
        "id": "cuh3qVzEp14h"
      },
      "execution_count": null,
      "outputs": []
    },
    {
      "cell_type": "code",
      "source": [
        "answer = int(input('Ingrese su respuesta: '))\n",
        "\n",
        "if answer != 42:\n",
        "  print(\"Respuesta incorrecta, intenta nuevamente!\")"
      ],
      "metadata": {
        "id": "Q8P2FyvworiB"
      },
      "execution_count": null,
      "outputs": []
    },
    {
      "cell_type": "code",
      "source": [
        "age = 19\n",
        "age < 21"
      ],
      "metadata": {
        "id": "BSGJ9oNEqCOj"
      },
      "execution_count": null,
      "outputs": []
    },
    {
      "cell_type": "code",
      "source": [
        "age <= 21"
      ],
      "metadata": {
        "id": "wf3dMEHIqGh-"
      },
      "execution_count": null,
      "outputs": []
    },
    {
      "cell_type": "code",
      "source": [
        "age > 21"
      ],
      "metadata": {
        "id": "ALtGWaW_qIEG"
      },
      "execution_count": null,
      "outputs": []
    },
    {
      "cell_type": "code",
      "source": [
        "age >= 21"
      ],
      "metadata": {
        "id": "U-sv2_SKqJ3T"
      },
      "execution_count": null,
      "outputs": []
    },
    {
      "cell_type": "markdown",
      "source": [
        "### Condicionales múltiples"
      ],
      "metadata": {
        "id": "Ul7K_VXA69Hg"
      }
    },
    {
      "cell_type": "code",
      "source": [
        "age_0 = 22\n",
        "age_1 = 18\n",
        "age_0 >= 21 and age_1 >= 21"
      ],
      "metadata": {
        "id": "fPhw2J5U7Fgs"
      },
      "execution_count": null,
      "outputs": []
    },
    {
      "cell_type": "code",
      "source": [
        "age_1 = 22\n",
        "age_0 >= 21 and age_1 >= 21"
      ],
      "metadata": {
        "id": "vxSjikcs7zkf"
      },
      "execution_count": null,
      "outputs": []
    },
    {
      "cell_type": "code",
      "source": [
        "(age_0 >= 21) and (age_1 >= 21)"
      ],
      "metadata": {
        "id": "4sdZ7nWN75LC"
      },
      "execution_count": null,
      "outputs": []
    },
    {
      "cell_type": "code",
      "source": [
        "age_0 = 22\n",
        "age_1 = 18\n",
        "age_0 >= 21 or age_1 >= 21"
      ],
      "metadata": {
        "id": "I_gV0j1n8NJA"
      },
      "execution_count": null,
      "outputs": []
    },
    {
      "cell_type": "code",
      "source": [
        "age_0 = 18\n",
        "age_0 >= 21 or age_1 >= 21"
      ],
      "metadata": {
        "id": "OutmfEzZ-9jQ"
      },
      "execution_count": null,
      "outputs": []
    },
    {
      "cell_type": "markdown",
      "source": [
        "### Ejemplo 3.1: Condicionales simples (if, else, elif)\n"
      ],
      "metadata": {
        "id": "KA3FsiMQlLp_"
      }
    },
    {
      "cell_type": "code",
      "source": [
        "edad = int(input(\"¿Cuántos años tienes? \"))\n",
        "\n",
        "if edad >= 18:\n",
        "    print(\"Eres mayor de edad.\")\n",
        "else:\n",
        "    print(\"Eres menor de edad.\")\n"
      ],
      "metadata": {
        "id": "FgqtGbP8lNvd"
      },
      "execution_count": null,
      "outputs": []
    },
    {
      "cell_type": "markdown",
      "source": [
        "### Ejercicio 3.1: Descuento basado en la edad\n",
        "\n",
        "Pide al usuario ingresar su edad y usa condicionales para aplicar los siguientes descuentos:\n",
        "- Si es menor de 18 años, obtiene un 50% de descuento.\n",
        "- Si tiene entre 18 y 65 años, obtiene un 10% de descuento.\n",
        "- Si es mayor de 65 años, obtiene un 30% de descuento."
      ],
      "metadata": {
        "id": "vp3MgC__lQyw"
      }
    },
    {
      "cell_type": "code",
      "source": [
        "try:\n",
        "  edad = int(input(\"¿Cuántos años tienes? \"))\n",
        "  if edad < 0 :\n",
        "    print(\"La edad debe ser mayor a 0\")\n",
        "  if edad < 18  and edad >=0:\n",
        "      print(\"Felicidades tienes un descuento del 50% !\")\n",
        "  if edad >= 18 and edad < 65  :\n",
        "      print(\"Felicidades tienes un descuento del 10% !\")\n",
        "  if edad >= 65 and edad <=120  :\n",
        "      print(\"Felicidades tienes un descuento del 30% !\")\n",
        "  if edad > 120  :\n",
        "      print(\"No hay descuento para los muertos\")\n",
        "except ValueError:\n",
        "  print(\"Ingrese un dato correcto\")"
      ],
      "metadata": {
        "id": "8wxUXYwOlYNE",
        "colab": {
          "base_uri": "https://localhost:8080/"
        },
        "outputId": "0969609d-17be-4a20-87e7-38b01c4bbeaf"
      },
      "execution_count": 60,
      "outputs": [
        {
          "output_type": "stream",
          "name": "stdout",
          "text": [
            "¿Cuántos años tienes? -5\n",
            "La edad debe ser mayor a 0\n"
          ]
        }
      ]
    },
    {
      "cell_type": "markdown",
      "source": [
        "### Ejemplo 3.2: Condicionales con varias condiciones\n"
      ],
      "metadata": {
        "id": "x69-544MlYj_"
      }
    },
    {
      "cell_type": "code",
      "source": [
        "temperatura = int(input(\"¿Cuál es la temperatura actual en grados? \"))\n",
        "\n",
        "if temperatura > 30:\n",
        "    print(\"Hace mucho calor.\")\n",
        "elif temperatura > 20:\n",
        "    print(\"El clima es agradable.\")\n",
        "else:\n",
        "    print(\"Hace frío.\")\n"
      ],
      "metadata": {
        "id": "NJsA92zIlaox"
      },
      "execution_count": null,
      "outputs": []
    },
    {
      "cell_type": "markdown",
      "source": [
        "### Ejercicio 3.2: Estado de la temperatura\n",
        "\n",
        "Crea un programa que pida al usuario la temperatura en su ciudad y determine:\n",
        "- Si es mayor de 30 grados, imprime \"Hace mucho calor\".\n",
        "- Si está entre 20 y 30 grados, imprime \"El clima es agradable\".\n",
        "- Si es menor de 20 grados, imprime \"Hace frío\"."
      ],
      "metadata": {
        "id": "803QF-Ubldb2"
      }
    },
    {
      "cell_type": "code",
      "source": [
        "try:\n",
        "  temp = int(input(\"¿Ingrese la temperatura de su ciudad? \"))\n",
        "  if temp < 20 and temp >= -90 :\n",
        "      print(\"Hace frío !\")\n",
        "  if temp >= 20 and temp < 30  :\n",
        "      print(\"El clima es agradable\")\n",
        "  if temp >= 30 and temp <= 60  :\n",
        "      print(\"Hace mucho calor\")\n",
        "  if temp > 60  or temp < -90:\n",
        "      print(\"No mientas pecador\")\n",
        "except ValueError:\n",
        "  print(\"Ingrese un dato correcto\")"
      ],
      "metadata": {
        "id": "UkrBmkIcmoP_",
        "colab": {
          "base_uri": "https://localhost:8080/"
        },
        "outputId": "49664ddd-3519-4016-8c93-2249eda62afe"
      },
      "execution_count": 59,
      "outputs": [
        {
          "output_type": "stream",
          "name": "stdout",
          "text": [
            "¿Ingrese la temperatura de su ciudad? -62\n",
            "No mientas pecador\n"
          ]
        }
      ]
    },
    {
      "cell_type": "markdown",
      "source": [
        "### Ejemplo 3.3: Anidamiento de condicionales\n"
      ],
      "metadata": {
        "id": "mZr5Inw5llEd"
      }
    },
    {
      "cell_type": "code",
      "source": [
        "edad = int(input(\"¿Cuál es tu edad? \"))\n",
        "ingreso = int(input(\"¿Cuál es tu ingreso mensual en USD? \"))\n",
        "\n",
        "if edad >= 18:\n",
        "    if ingreso >= 1000:\n",
        "        print(\"Puedes solicitar una tarjeta de crédito.\")\n",
        "    else:\n",
        "        print(\"No tienes suficiente ingreso para solicitar una tarjeta.\")\n",
        "else:\n",
        "    print(\"Debes ser mayor de 18 para solicitar una tarjeta.\")\n"
      ],
      "metadata": {
        "id": "-9keYMbAlnBd"
      },
      "execution_count": null,
      "outputs": []
    },
    {
      "cell_type": "markdown",
      "source": [
        "### Ejercicio 3.3: Sistema de votación\n",
        "\n",
        "Crea un programa que determine si una persona puede votar. Pide al usuario su nacionalidad y edad.\n",
        "- Si la persona es de nacionalidad \"Peruana\" y mayor de 18 años, permite que vote.\n",
        "- Si es menor de edad o no es de esa nacionalidad, no puede votar."
      ],
      "metadata": {
        "id": "s98IAPjIlpkY"
      }
    },
    {
      "cell_type": "code",
      "source": [
        "try:\n",
        "  nacionalidad = input(\"Ingrese si es nacionalidad (Peruana) o otro : \")\n",
        "  edad = int(input(\"Ingrese su edad: \"))\n",
        "  if edad < 0 :\n",
        "      print(\"La edad debe ser mayor a 0\")\n",
        "  elif (nacionalidad == \"Peruana\" or nacionalidad == \"peruana\") and edad >= 18 and edad >= 0 :\n",
        "    print(\"Si puede votar\")\n",
        "  else:\n",
        "    print(\"No puede votar\")\n",
        "except ValueError:\n",
        "  print(\"Ingrese un dato correcto\")"
      ],
      "metadata": {
        "id": "Ii171M1omnjG",
        "colab": {
          "base_uri": "https://localhost:8080/"
        },
        "outputId": "206135ce-6e36-4c56-f42a-f1a6efc0d9bf"
      },
      "execution_count": 55,
      "outputs": [
        {
          "output_type": "stream",
          "name": "stdout",
          "text": [
            "Ingrese si es nacionalidad (Peruana) o otro : peruana\n",
            "Ingrese su edad: 0\n",
            "No puede votar\n"
          ]
        }
      ]
    },
    {
      "cell_type": "markdown",
      "source": [
        "### Ejemplo 3.4: Condicionales con operadores lógicos\n"
      ],
      "metadata": {
        "id": "NTCPiw7Mlv8N"
      }
    },
    {
      "cell_type": "code",
      "source": [
        "nota = int(input(\"¿Cuál es tu nota? \"))\n",
        "\n",
        "if nota >= 90 and nota <= 100:\n",
        "    print(\"Excelente\")\n",
        "elif nota >= 70 and nota < 90:\n",
        "    print(\"Aprobado\")\n",
        "else:\n",
        "    print(\"Reprobado\")\n"
      ],
      "metadata": {
        "id": "hp478v7tlyAz"
      },
      "execution_count": null,
      "outputs": []
    },
    {
      "cell_type": "markdown",
      "source": [
        "### Ejercicio 3.4: Notas de estudiantes\n",
        "\n",
        "Escribe un programa que determine la calificación de un estudiante en función de su nota:\n",
        "- Si la nota es mayor o igual a 90: \"Sobresaliente\".\n",
        "- Si está entre 70 y 89: \"Aprobado\".\n",
        "- Si es menor de 70: \"Desaprobado\"."
      ],
      "metadata": {
        "id": "GdtTJckEl0TL"
      }
    },
    {
      "cell_type": "code",
      "source": [
        "try:\n",
        "  nota = int(input(\"¿Ingrese la temperatura de su ciudad? \"))\n",
        "  if nota < 0 :\n",
        "      print(\"La nota debe ser mayor a 0\")\n",
        "  if nota < 70 and nota > 0:\n",
        "      print(\"Desaprobado\")\n",
        "  if nota >= 70 and nota < 89  :\n",
        "      print(\"Aprobado\")\n",
        "  if nota >= 90 and nota <= 100  :\n",
        "      print(\"Sobresaliente\")\n",
        "  if nota > 100  :\n",
        "      print(\"No mientas pecador\")\n",
        "except ValueError:\n",
        "  print(\"Ingrese un dato correcto\")"
      ],
      "metadata": {
        "id": "Mo1leF6PmnG4",
        "colab": {
          "base_uri": "https://localhost:8080/"
        },
        "outputId": "aa2521fa-3ebd-4a57-c61a-b3a8c00fd200"
      },
      "execution_count": 49,
      "outputs": [
        {
          "output_type": "stream",
          "name": "stdout",
          "text": [
            "¿Ingrese la temperatura de su ciudad? 53.5\n",
            "Ingrese un dato correcto\n"
          ]
        }
      ]
    },
    {
      "cell_type": "markdown",
      "source": [
        "## <b>4. Desafío</b>"
      ],
      "metadata": {
        "id": "K8ioDMpJl8zI"
      }
    },
    {
      "cell_type": "markdown",
      "source": [
        "### Desafío 1: Calculadora de propinas inteligente\n",
        "\n",
        "Crea un programa que simule una calculadora de propinas en un restaurante. El programa debe:\n",
        "\n",
        "- Pedir al usuario que ingrese el total de la cuenta.\n",
        "- Pedir el porcentaje de propina que le gustaría dejar (por ejemplo, 10%, 15%, 20%).\n",
        "\n",
        "Usar condicionales para sugerir automáticamente un valor si no se ingresa un porcentaje, basándose en la experiencia:\n",
        "\n",
        "- Si el servicio fue excelente, sugerir 20%.\n",
        "- Si el servicio fue bueno, sugerir 15%.\n",
        "- Si el servicio fue mediocre, sugerir 10%.\n",
        "- Si el servicio fue malo, no sugerir propina.\n",
        "\n",
        "Calcular e imprimir la cantidad de propina y el total a pagar (cuenta + propina)."
      ],
      "metadata": {
        "id": "mQkPuK6ymKTk"
      }
    },
    {
      "cell_type": "code",
      "source": [
        "try:\n",
        "  total = float(input(\"Ingrese el total de la cuenta : \"))\n",
        "  print(\"CALIFICACION DEL SERVICIO\")\n",
        "  print(\"(1) Servicio excelente.\")\n",
        "  print(\"(2) Servicio bueno.\")\n",
        "  print(\"(3) Servicio mediocre.\")\n",
        "  print(\"(4) Servicio malo.\")\n",
        "  sugerencia = int(input(\"Ingrese una la opcion 1,2,3 o 4 : \"))\n",
        "  print(\"----------------------------------\")\n",
        "  propina = 0.0\n",
        "  if sugerencia == 1 :\n",
        "    resp = input(\"Acepta la propina sugerida del 20% si o no ?\")\n",
        "    if resp == \"Si\" or resp == \"si\":\n",
        "      propina = total * 0.2\n",
        "    else :\n",
        "      porcen = int(input(\"Ingrese su porcentaje para la propina: \"))\n",
        "      if porcen >0 and porcen <= 100:\n",
        "        propina = total *(porcen)/100\n",
        "      else :\n",
        "          print(\"Porcentaje de propina invalido\")\n",
        "  if sugerencia == 2 :\n",
        "    resp = input(\"Acepta la propina sugerida del 15% si o no ?\")\n",
        "    if resp == \"Si\" or resp == \"si\":\n",
        "      propina = total * 0.15\n",
        "    else :\n",
        "      porcen = int(input(\"Ingrese su porcentaje para la propina: \"))\n",
        "      if porcen >0 and porcen <= 100:\n",
        "        propina = total * (porcen)/100\n",
        "      else :\n",
        "          print(\"Porcentaje de propina invalido\")\n",
        "  if sugerencia == 3 :\n",
        "    resp = input(\"Acepta la propina sugerida del 10% si o no ?\")\n",
        "    if resp == \"Si\" or resp == \"si\":\n",
        "      propina = total * 0.1\n",
        "    else :\n",
        "      porcen = int(input(\"Ingrese su porcentaje para la propina: \"))\n",
        "      if porcen >0 and porcen <= 100:\n",
        "        propina = total * (porcen)/100\n",
        "      else :\n",
        "          print(\"Porcentaje de propina invalido\")\n",
        "  if sugerencia == 4 :\n",
        "    propina= 0.0\n",
        "  print(f\"Cuenta: {total} \")\n",
        "  print(f\"Propina: {propina} \")\n",
        "  print(f\"Total: {total + propina} \")\n",
        "except ValueError:\n",
        "  print(\"Ingrese un dato correcto\")"
      ],
      "metadata": {
        "id": "43HiaKjEmmPg",
        "colab": {
          "base_uri": "https://localhost:8080/"
        },
        "outputId": "7abf245d-51db-4a84-87a6-1642d7126826"
      },
      "execution_count": 77,
      "outputs": [
        {
          "output_type": "stream",
          "name": "stdout",
          "text": [
            "Ingrese el total de la cuenta : adasf\n",
            "Ingrese un dato correcto\n"
          ]
        }
      ]
    },
    {
      "cell_type": "markdown",
      "source": [
        "### Desafío 2: Clasificación de Números\n",
        "\n",
        "Escribe un programa que clasifique un número dado por el usuario según sus características numéricas. El programa debe:\n",
        "\n",
        "Pedir al usuario que ingrese un número entero.\n",
        "\n",
        "Determinar si el número es:\n",
        "- Par o impar.\n",
        "- Positivo, negativo o cero.\n",
        "- Primo o no primo (un número primo solo es divisible por 1 y por sí mismo).\n",
        "- Imprimir una clasificación completa del número según las tres categorías anteriores."
      ],
      "metadata": {
        "id": "GO8pGoUJmuMM"
      }
    },
    {
      "cell_type": "code",
      "source": [
        "def es_primo(numero):\n",
        "    if numero <= 1:\n",
        "        return False\n",
        "    for i in range(2, int(numero ** 0.5) + 1):\n",
        "        if numero % i == 0:\n",
        "            return False\n",
        "    return True\n",
        "try:\n",
        "  num = int(input(\"¿Ingrese un numero entero? \"))\n",
        "  prin1='';\n",
        "  prin2='';\n",
        "  prin3='';\n",
        "  if num % 2 == 0:\n",
        "    prin1 =f\"El número {num} es par.\"\n",
        "  else:\n",
        "    prin1 =f\"El número {num} es impar.\"\n",
        "\n",
        "  if num > 0:\n",
        "    prin2 =f\"El número {num} es positivo.\"\n",
        "  if num < 0:\n",
        "    prin2 =f\"El número {num} es  negativo.\"\n",
        "  if num == 0:\n",
        "    prin2 =f\"El número {num} es  negativo.\"\n",
        "\n",
        "  if es_primo(num):\n",
        "    prin3 =f\"El número {num} es primo.\"\n",
        "  else:\n",
        "    prin3 =f\"El número {num} no es  primo.\"\n",
        "  print(prin1)\n",
        "  print(prin2)\n",
        "  print(prin3)\n",
        "\n",
        "except ValueError:\n",
        "  print(\"El numero no es entero o valido\")\n",
        "\n"
      ],
      "metadata": {
        "id": "9cSqIXwvnnT_",
        "colab": {
          "base_uri": "https://localhost:8080/"
        },
        "outputId": "95328b7b-8313-443f-cbd8-b82aa01340b7"
      },
      "execution_count": 84,
      "outputs": [
        {
          "output_type": "stream",
          "name": "stdout",
          "text": [
            "¿Ingrese un numero entero? -8\n",
            "El número -8 es par.\n",
            "El número -8 es  negativo.\n",
            "El número -8 no es  primo.\n"
          ]
        }
      ]
    },
    {
      "cell_type": "markdown",
      "source": [
        "---\n",
        "\n",
        "# Gracias por completar este laboratorio!\n",
        "\n",
        "---"
      ],
      "metadata": {
        "id": "_G9dWzTgp6-m"
      }
    }
  ]
}