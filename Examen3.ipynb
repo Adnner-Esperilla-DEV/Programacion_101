{
  "nbformat": 4,
  "nbformat_minor": 0,
  "metadata": {
    "colab": {
      "provenance": [],
      "authorship_tag": "ABX9TyO2O9necGTAh2tbOOXMXHf+",
      "include_colab_link": true
    },
    "kernelspec": {
      "name": "python3",
      "display_name": "Python 3"
    },
    "language_info": {
      "name": "python"
    }
  },
  "cells": [
    {
      "cell_type": "markdown",
      "metadata": {
        "id": "view-in-github",
        "colab_type": "text"
      },
      "source": [
        "<a href=\"https://colab.research.google.com/github/Adnner-Esperilla-DEV/Programacion_101/blob/main/Examen3.ipynb\" target=\"_parent\"><img src=\"https://colab.research.google.com/assets/colab-badge.svg\" alt=\"Open In Colab\"/></a>"
      ]
    },
    {
      "cell_type": "markdown",
      "source": [
        "\n",
        "ADNNER ESPERILLA RUIZ\n",
        "# Pregunta 1:\n",
        "\n",
        "a) Crea un array unidimensional que contenga los números primos entre 1 y 50.\n",
        "b) Convierte el array unidimensional anterior en una matriz de forma (n, 2), donde n es el número adecuado de\n",
        "filas. Si es necesario, agrega ceros al final del array para completar la matriz.\n",
        "c) Calcula la suma de cada fila y crea un nuevo array que contenga estos valores."
      ],
      "metadata": {
        "id": "EnRXk6BdJt6D"
      }
    },
    {
      "cell_type": "markdown",
      "source": [],
      "metadata": {
        "id": "k9ihLY2XKEDD"
      }
    },
    {
      "cell_type": "code",
      "source": [
        "import numpy as np\n",
        "\n",
        "def is_prime(num):\n",
        "    if num <= 1:\n",
        "        return False\n",
        "    for i in range(2, int(num**0.5) + 1):\n",
        "        if num % i == 0:\n",
        "            return False\n",
        "    return True\n",
        "\n",
        "primes = [num for num in range(2, 51) if is_prime(num)]\n",
        "prime_array = np.array(primes)\n",
        "\n",
        "num_primes = len(prime_array)\n",
        "n = (num_primes + 1) // 2\n",
        "\n",
        "matrix = np.zeros((n, 2), dtype=int)\n",
        "\n",
        "padded_primes = np.zeros(n * 2, dtype=int)\n",
        "padded_primes[:num_primes] = prime_array\n",
        "\n",
        "matrix = padded_primes.reshape(n, 2)\n",
        "\n",
        "row_sums = np.sum(matrix, axis=1)\n",
        "\n",
        "print(\"Array de num primos:\",prime_array )\n",
        "print(\"\\nMatriz (n,2):\\n\", matrix)\n",
        "print(\"\\nSuma de Filas:\", row_sums)"
      ],
      "metadata": {
        "colab": {
          "base_uri": "https://localhost:8080/"
        },
        "id": "Zs2EU776MJqE",
        "outputId": "2ed05d0e-4ff3-40e1-c074-d7d31b409cd3"
      },
      "execution_count": null,
      "outputs": [
        {
          "output_type": "stream",
          "name": "stdout",
          "text": [
            "Prime numbers array: [ 2  3  5  7 11 13 17 19 23 29 31 37 41 43 47]\n",
            "\n",
            "Matrix of shape (n,2):\n",
            " [[ 2  3]\n",
            " [ 5  7]\n",
            " [11 13]\n",
            " [17 19]\n",
            " [23 29]\n",
            " [31 37]\n",
            " [41 43]\n",
            " [47  0]]\n",
            "\n",
            "Sum of each row: [ 5 12 24 36 52 68 84 47]\n"
          ]
        }
      ]
    },
    {
      "cell_type": "markdown",
      "source": [
        "\n",
        "Pregunta 2:\n",
        "a) Crea un array bidimensional de forma (4, 4) que contenga números enteros aleatorios entre 1 y 100.\n",
        "b) Cambia el tipo de datos del array a float64 y divide todos los elementos por 3.7.\n",
        "c) Calcula y muestra las siguientes propiedades del array resultante:\n",
        "● Dimensiones (ndim)\n",
        "● Forma (shape)\n",
        "● Tamaño total (size)\n",
        "● Tipo de datos (dtype)"
      ],
      "metadata": {
        "id": "0-4sqqQVJvQn"
      }
    },
    {
      "cell_type": "code",
      "source": [
        "import numpy as np\n",
        "\n",
        "array = np.random.randint(1, 101, size=(4, 4))\n",
        "\n",
        "array_float = array.astype(np.float64) / 3.7\n",
        "\n",
        "print(\"Array bidimensional original:\\n\", array)\n",
        "print(\"\\nArray bidimensional modificado:\\n\", array_float)\n",
        "print(\"\\nDimensiones:\", array_float.ndim)\n",
        "print(\"Forma:\", array_float.shape)\n",
        "print(\"Tamaño total:\", array_float.size)\n",
        "print(\"Tipo de datos:\", array_float.dtype)"
      ],
      "metadata": {
        "colab": {
          "base_uri": "https://localhost:8080/"
        },
        "id": "clvF133WKHbv",
        "outputId": "90ae8a63-e4e7-4055-eff5-361fe3d32e10"
      },
      "execution_count": null,
      "outputs": [
        {
          "output_type": "stream",
          "name": "stdout",
          "text": [
            "Array bidimensional original:\n",
            " [[64 16 76 47]\n",
            " [20 10 55 13]\n",
            " [40 35 77 55]\n",
            " [17 70 46 26]]\n",
            "\n",
            "Array bidimensional modificado:\n",
            " [[17.2972973   4.32432432 20.54054054 12.7027027 ]\n",
            " [ 5.40540541  2.7027027  14.86486486  3.51351351]\n",
            " [10.81081081  9.45945946 20.81081081 14.86486486]\n",
            " [ 4.59459459 18.91891892 12.43243243  7.02702703]]\n",
            "\n",
            "Dimensiones: 2\n",
            "Forma: (4, 4)\n",
            "Tamaño total: 16\n",
            "Tipo de datos: float64\n"
          ]
        }
      ]
    },
    {
      "cell_type": "markdown",
      "source": [
        "Pregunta 3:\n",
        "a) Crea un array x que contenga 100 valores equiespaciados entre -10 y 10.\n",
        "b) Calcula el valor de la función f(x)=e**(-x**2) para cada elemento de x.\n",
        "c) Encuentra el valor máximo y mínimo de f(x) y las posiciones en el array donde ocurren."
      ],
      "metadata": {
        "id": "BCZd4CZtPJ8y"
      }
    },
    {
      "cell_type": "code",
      "source": [
        "import numpy as np\n",
        "\n",
        "x = np.linspace(-10, 10, 100)\n",
        "\n",
        "fx = np.exp(-x**2)\n",
        "\n",
        "valor_maximo = np.max(fx)\n",
        "posicion_maximo = np.argmax(fx)\n",
        "valor_minimo = np.min(fx)\n",
        "posicion_minimo = np.argmin(fx)\n",
        "\n",
        "print(\"Array x:\\n\", x)\n",
        "print(\"\\nFunción f(x):\\n\", fx)\n",
        "print(\"\\nValor máximo de f(x):\", valor_maximo)\n",
        "print(\"Posición del valor máximo:\", posicion_maximo)\n",
        "print(\"Valor mínimo de f(x):\", valor_minimo)\n",
        "print(\"Posición del valor mínimo:\", posicion_minimo)"
      ],
      "metadata": {
        "colab": {
          "base_uri": "https://localhost:8080/"
        },
        "id": "OwB1xYG7PJo9",
        "outputId": "26b23671-d578-41b5-8c95-b670d239aa68"
      },
      "execution_count": 3,
      "outputs": [
        {
          "output_type": "stream",
          "name": "stdout",
          "text": [
            "Array x:\n",
            " [-10.          -9.7979798   -9.5959596   -9.39393939  -9.19191919\n",
            "  -8.98989899  -8.78787879  -8.58585859  -8.38383838  -8.18181818\n",
            "  -7.97979798  -7.77777778  -7.57575758  -7.37373737  -7.17171717\n",
            "  -6.96969697  -6.76767677  -6.56565657  -6.36363636  -6.16161616\n",
            "  -5.95959596  -5.75757576  -5.55555556  -5.35353535  -5.15151515\n",
            "  -4.94949495  -4.74747475  -4.54545455  -4.34343434  -4.14141414\n",
            "  -3.93939394  -3.73737374  -3.53535354  -3.33333333  -3.13131313\n",
            "  -2.92929293  -2.72727273  -2.52525253  -2.32323232  -2.12121212\n",
            "  -1.91919192  -1.71717172  -1.51515152  -1.31313131  -1.11111111\n",
            "  -0.90909091  -0.70707071  -0.50505051  -0.3030303   -0.1010101\n",
            "   0.1010101    0.3030303    0.50505051   0.70707071   0.90909091\n",
            "   1.11111111   1.31313131   1.51515152   1.71717172   1.91919192\n",
            "   2.12121212   2.32323232   2.52525253   2.72727273   2.92929293\n",
            "   3.13131313   3.33333333   3.53535354   3.73737374   3.93939394\n",
            "   4.14141414   4.34343434   4.54545455   4.74747475   4.94949495\n",
            "   5.15151515   5.35353535   5.55555556   5.75757576   5.95959596\n",
            "   6.16161616   6.36363636   6.56565657   6.76767677   6.96969697\n",
            "   7.17171717   7.37373737   7.57575758   7.77777778   7.97979798\n",
            "   8.18181818   8.38383838   8.58585859   8.78787879   8.98989899\n",
            "   9.19191919   9.39393939   9.5959596    9.7979798   10.        ]\n",
            "\n",
            "Función f(x):\n",
            " [3.72007598e-44 2.03026390e-42 1.02118442e-40 4.73376699e-39\n",
            " 2.02236984e-37 7.96279046e-36 2.88948872e-34 9.66335032e-33\n",
            " 2.97841666e-31 8.46046409e-30 2.21489900e-28 5.34397817e-27\n",
            " 1.18830091e-25 2.43522554e-24 4.59941880e-23 8.00603952e-22\n",
            " 1.28435035e-20 1.89889213e-19 2.58742690e-18 3.24927813e-17\n",
            " 3.76059612e-16 4.01122945e-15 3.94320471e-14 3.57249927e-13\n",
            " 2.98295005e-12 2.29546576e-11 1.62797100e-10 1.06407812e-09\n",
            " 6.40990174e-09 3.55860870e-08 1.82079103e-07 8.58600196e-07\n",
            " 3.73140910e-06 1.49453385e-05 5.51683065e-05 1.87682835e-04\n",
            " 5.88451217e-04 1.70038545e-03 4.52830117e-03 1.11140983e-02\n",
            " 2.51399360e-02 5.24089078e-02 1.00692485e-01 1.78295348e-01\n",
            " 2.90960459e-01 4.37601640e-01 6.06561603e-01 7.74857597e-01\n",
            " 9.12262625e-01 9.89848834e-01 9.89848834e-01 9.12262625e-01\n",
            " 7.74857597e-01 6.06561603e-01 4.37601640e-01 2.90960459e-01\n",
            " 1.78295348e-01 1.00692485e-01 5.24089078e-02 2.51399360e-02\n",
            " 1.11140983e-02 4.52830117e-03 1.70038545e-03 5.88451217e-04\n",
            " 1.87682835e-04 5.51683065e-05 1.49453385e-05 3.73140910e-06\n",
            " 8.58600196e-07 1.82079103e-07 3.55860870e-08 6.40990174e-09\n",
            " 1.06407812e-09 1.62797100e-10 2.29546576e-11 2.98295005e-12\n",
            " 3.57249927e-13 3.94320471e-14 4.01122945e-15 3.76059612e-16\n",
            " 3.24927813e-17 2.58742690e-18 1.89889213e-19 1.28435035e-20\n",
            " 8.00603952e-22 4.59941880e-23 2.43522554e-24 1.18830091e-25\n",
            " 5.34397817e-27 2.21489900e-28 8.46046409e-30 2.97841666e-31\n",
            " 9.66335032e-33 2.88948872e-34 7.96279046e-36 2.02236984e-37\n",
            " 4.73376699e-39 1.02118442e-40 2.03026390e-42 3.72007598e-44]\n",
            "\n",
            "Valor máximo de f(x): 0.9898488339361309\n",
            "Posición del valor máximo: 49\n",
            "Valor mínimo de f(x): 3.720075976020836e-44\n",
            "Posición del valor mínimo: 0\n"
          ]
        }
      ]
    },
    {
      "cell_type": "markdown",
      "source": [
        "Dado el siguiente array bidimensional:\n",
        "array = np.arange(1, 101).reshape(10, 10)\n",
        "a) Extrae un subarray que contenga los elementos en posiciones pares de filas y columnas (es decir, filas y\n",
        "columnas con índices 0, 2, 4, 6, 8).\n",
        "b) Reemplaza todos los elementos que son múltiplos de 3 por -1.\n",
        "c) Utiliza indexación avanzada para extraer todos los números primos del array original y crea un nuevo array\n",
        "con estos valores.\n"
      ],
      "metadata": {
        "id": "iqib4AvkRCWr"
      }
    },
    {
      "cell_type": "code",
      "source": [
        "import numpy as np\n",
        "\n",
        "array = np.arange(1, 101).reshape(10, 10)\n",
        "\n",
        "subarray = array[::2, ::2]\n",
        "print(\"Subarray con posiciones pares:\\n\", subarray)\n",
        "\n",
        "array[array % 3 == 0] = -1\n",
        "print(\"\\nArray con múltiplos de 3 reemplazados por -1:\\n\", array)\n",
        "\n",
        "def is_prime(num):\n",
        "    if num <= 1:\n",
        "        return False\n",
        "    for i in range(2, int(num**0.5) + 1):\n",
        "        if num % i == 0:\n",
        "            return False\n",
        "    return True\n",
        "\n",
        "replace_prime = np.array([i for i in range(1,101) if is_prime(i)]) -1\n",
        "prime_numbers = array.flatten()[replace_prime]\n",
        "\n",
        "prime_array = np.array([num for num in prime_numbers if num != -1 and num > 0])\n",
        "\n",
        "print(\"\\nNúmeros primos del array original:\\n\", prime_array)"
      ],
      "metadata": {
        "colab": {
          "base_uri": "https://localhost:8080/"
        },
        "id": "z_nIgbUJRB4H",
        "outputId": "ab68936d-ecc4-419d-cfe6-b84631ad76a5"
      },
      "execution_count": 6,
      "outputs": [
        {
          "output_type": "stream",
          "name": "stdout",
          "text": [
            "Subarray con posiciones pares:\n",
            " [[ 1  3  5  7  9]\n",
            " [21 23 25 27 29]\n",
            " [41 43 45 47 49]\n",
            " [61 63 65 67 69]\n",
            " [81 83 85 87 89]]\n",
            "\n",
            "Array con múltiplos de 3 reemplazados por -1:\n",
            " [[  1   2  -1   4   5  -1   7   8  -1  10]\n",
            " [ 11  -1  13  14  -1  16  17  -1  19  20]\n",
            " [ -1  22  23  -1  25  26  -1  28  29  -1]\n",
            " [ 31  32  -1  34  35  -1  37  38  -1  40]\n",
            " [ 41  -1  43  44  -1  46  47  -1  49  50]\n",
            " [ -1  52  53  -1  55  56  -1  58  59  -1]\n",
            " [ 61  62  -1  64  65  -1  67  68  -1  70]\n",
            " [ 71  -1  73  74  -1  76  77  -1  79  80]\n",
            " [ -1  82  83  -1  85  86  -1  88  89  -1]\n",
            " [ 91  92  -1  94  95  -1  97  98  -1 100]]\n",
            "\n",
            "Números primos del array original:\n",
            " [ 2  5  7 11 13 17 19 23 29 31 37 41 43 47 53 59 61 67 71 73 79 83 89 97]\n"
          ]
        }
      ]
    },
    {
      "cell_type": "markdown",
      "source": [],
      "metadata": {
        "id": "1LWEwXvIR_Bw"
      }
    },
    {
      "cell_type": "markdown",
      "source": [
        "Pregunta 5:\n",
        "a) Crea tres arrays unidimensionales de longitud 5 con números aleatorios entre 0 y 1.\n",
        "b) Combina estos arrays para formar una matriz de forma (5, 3).\n",
        "c) Agrega una columna de unos al principio de la matriz resultante, obteniendo una matriz de forma (5, 4).\n",
        "d) Reordena las columnas de la matriz para que la columna de unos esté al final.\n"
      ],
      "metadata": {
        "id": "5lZFOBCvSwdW"
      }
    },
    {
      "cell_type": "code",
      "source": [
        "import numpy as np\n",
        "\n",
        "array1 = np.random.rand(5)\n",
        "array2 = np.random.rand(5)\n",
        "array3 = np.random.rand(5)\n",
        "print(\"\\nNúmeros primos del array original:\\n\", array3)\n",
        "matrix = np.column_stack((array1, array2, array3))\n",
        "\n",
        "ones_column = np.ones((5, 1))\n",
        "matrix = np.hstack((ones_column, matrix))\n",
        "\n",
        "# d) Reordena las columnas de la matriz para que la columna de unos esté al final.\n",
        "matrix = np.concatenate((matrix[:, 1:], matrix[:, :1]), axis=1)\n",
        "print(matrix)\n"
      ],
      "metadata": {
        "colab": {
          "base_uri": "https://localhost:8080/"
        },
        "id": "W8ypa8QlSxAJ",
        "outputId": "4cd86810-2b7a-4edc-ce2b-dadc1719e35b"
      },
      "execution_count": 18,
      "outputs": [
        {
          "output_type": "stream",
          "name": "stdout",
          "text": [
            "\n",
            "Números primos del array original:\n",
            " [0.58255899 0.76689529 0.8405205  0.18003162 0.52372545]\n",
            "[[0.20028076 0.70579981 0.58255899 1.        ]\n",
            " [0.59995044 0.29359312 0.76689529 1.        ]\n",
            " [0.51026278 0.5142807  0.8405205  1.        ]\n",
            " [0.38032911 0.81273661 0.18003162 1.        ]\n",
            " [0.26608439 0.51997609 0.52372545 1.        ]]\n"
          ]
        }
      ]
    },
    {
      "cell_type": "markdown",
      "source": [
        "Pregunta 6:\n",
        "\n",
        "a) Crea una matriz simétrica positiva definida de tamaño 3x3.\n",
        "b) Calcula sus valores y vectores propios (eigenvalores y eigenvectores).\n",
        "c) Verifica que la multiplicación de la matriz original por un vector propio es igual al producto del eigenvalor\n",
        "correspondiente por el vector propio.\n"
      ],
      "metadata": {
        "id": "PZeOwDVlULNE"
      }
    },
    {
      "cell_type": "code",
      "source": [
        "\n",
        "import numpy as np\n",
        "\n",
        "\n",
        "matriz = np.random.rand(3, 3)\n",
        "matriz = np.dot(matriz, matriz.transpose())\n",
        "\n",
        "matriz += 0.1 * np.eye(3)\n",
        "\n",
        "print(\"Matriz simtrica\", matriz)\n",
        "\n",
        "eigenvalues, eigenvectors = np.linalg.eig(matriz)\n",
        "\n",
        "print(\"\\nEigenvalores:\\n\", eigenvalues)\n",
        "print(\"\\nEigenvectores:\\n\", eigenvectors)\n",
        "\n",
        "\n",
        "for i in range(3):\n",
        "    eigenvector = eigenvectors[:, i]\n",
        "    result1 = np.dot(matriz, eigenvector)\n",
        "    result2 = eigenvalues[i] * eigenvector\n",
        "    print(f\"\\nVerificacion para el eigenvector {i+1}:\")\n",
        "    print(\"matriz* v =\", result1)\n",
        "    print(\"lambda * v =\", result2)\n",
        "    print(\"Son iguales?\", np.allclose(result1, result2))"
      ],
      "metadata": {
        "colab": {
          "base_uri": "https://localhost:8080/"
        },
        "id": "DWk2mZmiULx6",
        "outputId": "2868a408-3b31-4e91-d995-769117719399"
      },
      "execution_count": 22,
      "outputs": [
        {
          "output_type": "stream",
          "name": "stdout",
          "text": [
            "Matriz simtrica [[1.5658477  1.32145982 1.63855553]\n",
            " [1.32145982 1.52936773 1.5286568 ]\n",
            " [1.63855553 1.5286568  2.00691409]]\n",
            "\n",
            "Eigenvalores:\n",
            " [4.71955712 0.13224226 0.25033013]\n",
            "\n",
            "Eigenvectores:\n",
            " [[-0.55508794 -0.72197103  0.41308014]\n",
            " [-0.53508706 -0.07027823 -0.84186864]\n",
            " [-0.63683532  0.68834497  0.34730676]]\n",
            "\n",
            "Verificacion para el eigenvector 1:\n",
            "matriz* v = [-2.61976925 -2.52537392 -3.00558065]\n",
            "lambda * v = [-2.61976925 -2.52537392 -3.00558065]\n",
            "Son iguales? True\n",
            "\n",
            "Verificacion para el eigenvector 2:\n",
            "matriz* v = [-0.09547508 -0.00929375  0.09102829]\n",
            "lambda * v = [-0.09547508 -0.00929375  0.09102829]\n",
            "Son iguales? True\n",
            "\n",
            "Verificacion para el eigenvector 3:\n",
            "matriz* v = [ 0.10340641 -0.21074509  0.08694134]\n",
            "lambda * v = [ 0.10340641 -0.21074509  0.08694134]\n",
            "Son iguales? True\n"
          ]
        }
      ]
    },
    {
      "cell_type": "markdown",
      "source": [
        "Pregunta 7:\n",
        "a) Construye un sistema de ecuaciones lineales con tres ecuaciones y tres incógnitas donde la matriz de\n",
        "coeficientes es singular (no invertible).\n",
        "b) Intenta resolver el sistema utilizando np.linalg.solve() y explica el resultado obtenido.\n"
      ],
      "metadata": {
        "id": "HfSLcYncVGcg"
      }
    },
    {
      "cell_type": "code",
      "source": [
        "\n",
        "A = np.array([[1, 2, 3],\n",
        "              [4, 5, 6],\n",
        "              [7, 8, 9]])\n",
        "\n",
        "B = np.array([1, 2, 3])\n",
        "\n",
        "try:\n",
        "    x = np.linalg.solve(A, B)\n",
        "    print(\"Solución del sistema:\", x)\n",
        "except np.linalg.LinAlgError as e:\n",
        "    print(\"Error al resolver el sistema:\", e)\n",
        "    print(\"La matriz de coeficientes es singular, por lo que no existe una solución única.\")"
      ],
      "metadata": {
        "colab": {
          "base_uri": "https://localhost:8080/"
        },
        "id": "-elnp0DKVHET",
        "outputId": "0a6bdd33-6658-43ce-a72a-2f32d695ecb6"
      },
      "execution_count": 25,
      "outputs": [
        {
          "output_type": "stream",
          "name": "stdout",
          "text": [
            "Error al resolver el sistema: Singular matrix\n",
            "La matriz de coeficientes es singular, por lo que no existe una solución única.\n"
          ]
        }
      ]
    },
    {
      "cell_type": "markdown",
      "source": [
        "Pregunta 8\n",
        "a) Crea un array de forma (4, 4, 4) con números enteros aleatorios entre 0 y 100.\n",
        "b) Calcula la suma a lo largo del eje 0, obteniendo un array de forma (4, 4).\n",
        "c) Calcula el promedio a lo largo del eje 1, obteniendo un array de forma (4, 4).\n",
        "d) Reestructura el array original en una nueva forma de (8, 8) sin perder datos.\n"
      ],
      "metadata": {
        "id": "BOb0_RIeWU18"
      }
    },
    {
      "cell_type": "code",
      "source": [
        "import numpy as np\n",
        "array_3d = np.random.randint(0, 101, size=(4, 4, 4))\n",
        "\n",
        "sum_along_axis_0 = np.sum(array_3d, axis=0)\n",
        "\n",
        "average_along_axis_1 = np.mean(array_3d, axis=1)\n",
        "\n",
        "reshaped_array = array_3d.reshape(8, 8)\n",
        "\n",
        "print(\"Array (4, 4, 4):\\n\", array_3d)\n",
        "print(\"\\nSuma en eje 0 (4, 4):\\n\", sum_along_axis_0)\n",
        "print(\"\\nPromedio en eje 1 (4, 4):\\n\", average_along_axis_1)\n",
        "print(\"\\nArray  (8, 8):\\n\", reshaped_array)"
      ],
      "metadata": {
        "colab": {
          "base_uri": "https://localhost:8080/"
        },
        "id": "XRweplQTWNtu",
        "outputId": "5a144a0b-aeec-434d-a82a-3558460af6ca"
      },
      "execution_count": 28,
      "outputs": [
        {
          "output_type": "stream",
          "name": "stdout",
          "text": [
            "Array (4, 4, 4):\n",
            " [[[ 49  47  10  99]\n",
            "  [ 54  66  30  55]\n",
            "  [ 77  23 100  98]\n",
            "  [ 13  83  32  79]]\n",
            "\n",
            " [[ 52  92  27  11]\n",
            "  [ 70  52  86 100]\n",
            "  [ 31  27  49  48]\n",
            "  [ 81  85 100  51]]\n",
            "\n",
            " [[ 65   1  18  56]\n",
            "  [ 85   7  31  78]\n",
            "  [ 63  16  46  50]\n",
            "  [ 62  92  36  40]]\n",
            "\n",
            " [[ 14  82  82   9]\n",
            "  [ 35  40  32   0]\n",
            "  [ 26  70  94  48]\n",
            "  [ 91  13  25  89]]]\n",
            "\n",
            "Suma en eje 0 (4, 4):\n",
            " [[180 222 137 175]\n",
            " [244 165 179 233]\n",
            " [197 136 289 244]\n",
            " [247 273 193 259]]\n",
            "\n",
            "Promedio en eje 1 (4, 4):\n",
            " [[48.25 54.75 43.   82.75]\n",
            " [58.5  64.   65.5  52.5 ]\n",
            " [68.75 29.   32.75 56.  ]\n",
            " [41.5  51.25 58.25 36.5 ]]\n",
            "\n",
            "Array  (8, 8):\n",
            " [[ 49  47  10  99  54  66  30  55]\n",
            " [ 77  23 100  98  13  83  32  79]\n",
            " [ 52  92  27  11  70  52  86 100]\n",
            " [ 31  27  49  48  81  85 100  51]\n",
            " [ 65   1  18  56  85   7  31  78]\n",
            " [ 63  16  46  50  62  92  36  40]\n",
            " [ 14  82  82   9  35  40  32   0]\n",
            " [ 26  70  94  48  91  13  25  89]]\n"
          ]
        }
      ]
    },
    {
      "cell_type": "markdown",
      "source": [
        "Pregunta 9:\n",
        "Se define una secuencia de números donde cada elemento es el factorial del índice correspondiente.\n",
        "\n",
        "a) Usando NumPy, crea un array que contenga los primeros 10 elementos de esta secuencia sin utilizar bucles\n",
        "explícitos.\n",
        "b) Calcula la suma de todos los elementos del array creado.\n",
        "c) Dado que los factoriales pueden ser números muy grandes, cambia el tipo de datos del array a object para\n",
        "manejar enteros arbitrariamente grandes y recalcula la suma"
      ],
      "metadata": {
        "id": "a0iJl7tbXSFk"
      }
    },
    {
      "cell_type": "code",
      "source": [
        "import numpy as np\n",
        "import math\n",
        "# Crear un array con los factoriales del 1 al 10\n",
        "factoriales = np.array([math.factorial(n) for n in range(1, 11)])\n",
        "print(\"Array de factoriales:\", factoriales)\n",
        "# Calcular la suma de los elementos\n",
        "suma_factoriales = np.sum(factoriales)\n",
        "print(\"Suma de los factoriales:\", suma_factoriales)\n",
        "\n",
        "\n",
        "# Cambiar el tipo de dato del array a object\n",
        "factoriales_obj = factoriales.astype(object)\n",
        "\n",
        "# Calcular nuevamente la suma con enteros grandes\n",
        "suma_factoriales_obj = np.sum(factoriales_obj)\n",
        "print(\"Suma de los factoriales con tipo object:\", suma_factoriales_obj)\n"
      ],
      "metadata": {
        "colab": {
          "base_uri": "https://localhost:8080/"
        },
        "id": "UXnw_3qVXXbG",
        "outputId": "e762e7c7-a38e-4b06-8904-b0dc5d4092f1"
      },
      "execution_count": 42,
      "outputs": [
        {
          "output_type": "stream",
          "name": "stdout",
          "text": [
            "Array de factoriales: [      1       2       6      24     120     720    5040   40320  362880\n",
            " 3628800]\n",
            "Suma de los factoriales: 4037913\n",
            "Suma de los factoriales con tipo object: 4037913\n"
          ]
        }
      ]
    },
    {
      "cell_type": "markdown",
      "source": [
        "Pregunta 10:\n",
        "a) Simula un conjunto de datos que represente las alturas (en cm) de 500 personas, siguiendo una distribución\n",
        "normal con media 170 y desviación estándar 10.\n",
        "c) Encuentra cuántas personas miden más de 180 cm y menos de 160 cm.\n",
        "d) Normaliza los datos de altura para que tengan media 0 y desviación estándar"
      ],
      "metadata": {
        "id": "5vx4U2ktZFXO"
      }
    },
    {
      "cell_type": "code",
      "source": [
        "import numpy as np\n",
        "\n",
        "media = 170\n",
        "desviacion_estandar = 10\n",
        "num_personas = 500\n",
        "\n",
        "alturas = np.random.normal(media, desviacion_estandar, num_personas)\n",
        "print(\"Primeras 10 alturas simuladas:\", alturas[:10])\n",
        "mas_de_180 = np.sum(alturas > 180)\n",
        "\n",
        "menos_de_160 = np.sum(alturas < 160)\n",
        "\n",
        "print(f\"Personas que miden ms de 180 cm: {mas_de_180}\")\n",
        "print(f\"Personas que miden menos de 160 cm: {menos_de_160}\")\n",
        "alturas_normalizadas = (alturas - np.mean(alturas)) / np.std(alturas)\n",
        "print(\"Media de datos normalizados:\", np.mean(alturas_normalizadas))\n",
        "print(\"Desviación estándar de datos normalizados:\", np.std(alturas_normalizadas))"
      ],
      "metadata": {
        "colab": {
          "base_uri": "https://localhost:8080/"
        },
        "id": "qUsnc4pvZKam",
        "outputId": "6715d74c-b3ff-4013-b863-bbfefd62046b"
      },
      "execution_count": 46,
      "outputs": [
        {
          "output_type": "stream",
          "name": "stdout",
          "text": [
            "Primeras 10 alturas simuladas: [177.61812121 156.60015895 169.73917427 166.32277457 176.96548114\n",
            " 183.39780344 161.65108982 187.25591302 164.47922869 180.67890427]\n",
            "Personas que miden ms de 180 cm: 95\n",
            "Personas que miden menos de 160 cm: 65\n",
            "Media de datos normalizados: 1.637801005927031e-15\n",
            "Desviación estándar de datos normalizados: 1.0\n"
          ]
        }
      ]
    }
  ]
}