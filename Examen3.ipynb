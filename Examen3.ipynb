{
  "nbformat": 4,
  "nbformat_minor": 0,
  "metadata": {
    "colab": {
      "provenance": [],
      "authorship_tag": "ABX9TyN0rkzcqVJAh7PQ3/c7qm+r",
      "include_colab_link": true
    },
    "kernelspec": {
      "name": "python3",
      "display_name": "Python 3"
    },
    "language_info": {
      "name": "python"
    }
  },
  "cells": [
    {
      "cell_type": "markdown",
      "metadata": {
        "id": "view-in-github",
        "colab_type": "text"
      },
      "source": [
        "<a href=\"https://colab.research.google.com/github/Adnner-Esperilla-DEV/Programacion_101/blob/main/Examen3.ipynb\" target=\"_parent\"><img src=\"https://colab.research.google.com/assets/colab-badge.svg\" alt=\"Open In Colab\"/></a>"
      ]
    },
    {
      "cell_type": "markdown",
      "source": [
        "Pregunta 1:\n",
        "\n",
        "a) Crea un array unidimensional que contenga los números primos entre 1 y 50.\n",
        "b) Convierte el array unidimensional anterior en una matriz de forma (n, 2), donde n es el número adecuado de\n",
        "filas. Si es necesario, agrega ceros al final del array para completar la matriz.\n",
        "c) Calcula la suma de cada fila y crea un nuevo array que contenga estos valores."
      ],
      "metadata": {
        "id": "EnRXk6BdJt6D"
      }
    },
    {
      "cell_type": "markdown",
      "source": [],
      "metadata": {
        "id": "k9ihLY2XKEDD"
      }
    },
    {
      "cell_type": "code",
      "source": [
        "import numpy as np\n",
        "\n",
        "def is_prime(num):\n",
        "    if num <= 1:\n",
        "        return False\n",
        "    for i in range(2, int(num**0.5) + 1):\n",
        "        if num % i == 0:\n",
        "            return False\n",
        "    return True\n",
        "\n",
        "primes = [num for num in range(2, 51) if is_prime(num)]\n",
        "prime_array = np.array(primes)\n",
        "\n",
        "num_primes = len(prime_array)\n",
        "n = (num_primes + 1) // 2\n",
        "\n",
        "matrix = np.zeros((n, 2), dtype=int)\n",
        "\n",
        "padded_primes = np.zeros(n * 2, dtype=int)\n",
        "padded_primes[:num_primes] = prime_array\n",
        "\n",
        "matrix = padded_primes.reshape(n, 2)\n",
        "\n",
        "row_sums = np.sum(matrix, axis=1)\n",
        "\n",
        "print(\"Array de num primos:\",prime_array )\n",
        "print(\"\\nMatriz (n,2):\\n\", matrix)\n",
        "print(\"\\nSuma de Filas:\", row_sums)"
      ],
      "metadata": {
        "colab": {
          "base_uri": "https://localhost:8080/"
        },
        "id": "Zs2EU776MJqE",
        "outputId": "2ed05d0e-4ff3-40e1-c074-d7d31b409cd3"
      },
      "execution_count": 4,
      "outputs": [
        {
          "output_type": "stream",
          "name": "stdout",
          "text": [
            "Prime numbers array: [ 2  3  5  7 11 13 17 19 23 29 31 37 41 43 47]\n",
            "\n",
            "Matrix of shape (n,2):\n",
            " [[ 2  3]\n",
            " [ 5  7]\n",
            " [11 13]\n",
            " [17 19]\n",
            " [23 29]\n",
            " [31 37]\n",
            " [41 43]\n",
            " [47  0]]\n",
            "\n",
            "Sum of each row: [ 5 12 24 36 52 68 84 47]\n"
          ]
        }
      ]
    },
    {
      "cell_type": "markdown",
      "source": [
        "\n",
        "Pregunta 2:\n",
        "a) Crea un array bidimensional de forma (4, 4) que contenga números enteros aleatorios entre 1 y 100.\n",
        "b) Cambia el tipo de datos del array a float64 y divide todos los elementos por 3.7.\n",
        "c) Calcula y muestra las siguientes propiedades del array resultante:\n",
        "● Dimensiones (ndim)\n",
        "● Forma (shape)\n",
        "● Tamaño total (size)\n",
        "● Tipo de datos (dtype)"
      ],
      "metadata": {
        "id": "0-4sqqQVJvQn"
      }
    },
    {
      "cell_type": "code",
      "source": [
        "import numpy as np\n",
        "\n",
        "array = np.random.randint(1, 101, size=(4, 4))\n",
        "\n",
        "array_float = array.astype(np.float64) / 3.7\n",
        "\n",
        "print(\"Array bidimensional original:\\n\", array)\n",
        "print(\"\\nArray bidimensional modificado:\\n\", array_float)\n",
        "print(\"\\nDimensiones:\", array_float.ndim)\n",
        "print(\"Forma:\", array_float.shape)\n",
        "print(\"Tamaño total:\", array_float.size)\n",
        "print(\"Tipo de datos:\", array_float.dtype)"
      ],
      "metadata": {
        "colab": {
          "base_uri": "https://localhost:8080/"
        },
        "id": "clvF133WKHbv",
        "outputId": "90ae8a63-e4e7-4055-eff5-361fe3d32e10"
      },
      "execution_count": 5,
      "outputs": [
        {
          "output_type": "stream",
          "name": "stdout",
          "text": [
            "Array bidimensional original:\n",
            " [[64 16 76 47]\n",
            " [20 10 55 13]\n",
            " [40 35 77 55]\n",
            " [17 70 46 26]]\n",
            "\n",
            "Array bidimensional modificado:\n",
            " [[17.2972973   4.32432432 20.54054054 12.7027027 ]\n",
            " [ 5.40540541  2.7027027  14.86486486  3.51351351]\n",
            " [10.81081081  9.45945946 20.81081081 14.86486486]\n",
            " [ 4.59459459 18.91891892 12.43243243  7.02702703]]\n",
            "\n",
            "Dimensiones: 2\n",
            "Forma: (4, 4)\n",
            "Tamaño total: 16\n",
            "Tipo de datos: float64\n"
          ]
        }
      ]
    }
  ]
}